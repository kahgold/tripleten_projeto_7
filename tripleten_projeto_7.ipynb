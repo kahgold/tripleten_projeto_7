{
 "cells": [
  {
   "cell_type": "markdown",
   "metadata": {},
   "source": [
    "# Project Description: Internship at Y.Afisha"
   ]
  },
  {
   "cell_type": "markdown",
   "metadata": {},
   "source": [
    "*After managing to show brilliant performance during the Tripleten course. You were offered the opportunity to undergo an intership program in the **Y.Afisha's Analytics Departement**. On your first day, the **marketing department** give you a task to help them **optimize the marketing cost budget**.*\n",
    "\n",
    "*In front of you are available data from January 2017 to December 2018 which consist of 3 files containing:*\n",
    "- **Servers logs**/record of Y.Afisha site visit;\n",
    "- **Order** data;\n",
    "- Marketing **cost statistics**.\n",
    "\n",
    "*By completing this task, they expect you to learn:*\n",
    "- Y.Afisha user behaviour;\n",
    "- Cohort analysis;\n",
    "- Revenue generated;\n",
    "- When all marketing costs pay off."
   ]
  },
  {
   "cell_type": "markdown",
   "metadata": {},
   "source": [
    "**Project Instructions**\n",
    "1. ***Download data and prepare it for analysis***\n",
    "    - Store visit, order, and expense data in variables.\n",
    "    - Optimize the data you have for analysis purposes.\n",
    "    - Make sure each of its columns is presented in the correct data type.\n",
    "    - File path:\n",
    "        - /datasets/visits_log_us.csv\n",
    "        - /datasets/orders_log_us.csv\n",
    "        - /datasets/costs_us.csv\n",
    "\n",
    "\n",
    "2. ***Compile reports and calculate metrics:***\n",
    "    \n",
    "    - **Product**\n",
    "        - How many people **use** the product **every day**, **week**, and **month**?\n",
    "        - What is the number of **sessions per day**? (One user may have more than one session).\n",
    "        - What is the **duration** for **each session**?\n",
    "        - How often do **users return** to using the product?\n",
    "\n",
    "    - **Sales**\n",
    "        - **When** do people **start** making purchases?\n",
    "            - **Additional Note**: In **KPI analysis**, we are usually interested in knowing the time that **elapses from** the time the **registration** is made until the **conversion** occurs or when an authorized user switches to a customer. For example, if the first registration and purchase occurred on the same day, that user could be included in the h0 Conversion category. If the first purchase occurs the next day, the category will also be h1 Conversions. You are welcome to use any approach that allows you to compare conversions from different cohorts, so you can determine which cohort or marketing channel is most effective.\n",
    "        - How many **orders** do they make **over a period of time**?\n",
    "        - What is the **average purchase size**?\n",
    "        - How much money do they contribute? (**LTV**)\n",
    "\n",
    "    - **Marketing**\n",
    "        - How much **money is spent**? Overall/per source/over time\n",
    "        - How much does **customer acquisition cost** (CAC) from each source?\n",
    "        - How profitable is the investment? (**ROI**)\n",
    "\n",
    "     *Create a **graph** that shows **how these metrics differ** for **different devices** and **ad sources**, as well as how they have **changed over time**.*\n",
    "\n",
    "\n",
    "3. ***Writing down the conclusion:*** *tell marketing specialists how much money to invest and **where it should be invested**.*\n",
    "   - What **sources/platforms** would you **recommend**?\n",
    "   - Give reasons to support your choice:\n",
    "       - What **metrics** do you focus on?\n",
    "       - **Why**?\n",
    "       - What **conclusions** do you make after finding the values of those metrics?\n"
   ]
  },
  {
   "cell_type": "markdown",
   "metadata": {},
   "source": [
    "**Project Evaluation**\n",
    "\n",
    "- *Your project will be **assessed against these criteria**. Read it carefully before you start the project.*\n",
    "- *Here are the things that project reviewers will consider in assessing your project:*\n",
    "    - How you **prepare** data for analysis;\n",
    "    - What kind of **graph** you create **for each metric**;\n",
    "    - How do you **interpret** the resulting **graph**;\n",
    "    - How you **calculate** and **interpret each parameter**;\n",
    "    - How you **support** your **recommendations** for marketing specialists and what **metrics** you use;\n",
    "    - Do you follow the **project structure** and keep your code **tidy**;\n",
    "    - Comments you make at every step;\n",
    "    - **Conclusions** you made."
   ]
  },
  {
   "cell_type": "markdown",
   "metadata": {},
   "source": [
    "# Data dictionary"
   ]
  },
  {
   "cell_type": "markdown",
   "metadata": {},
   "source": [
    "**The visits table (server logs with data on website access):**\n",
    "- `Uid` — Unique user identifier\n",
    "- `Device` — User's device\n",
    "- `Start Ts` — Session start date and time\n",
    "- `End Ts` — Session end date and time\n",
    "- `Source Id` — The ID of the advertising source, the source with which the user comes to the website"
   ]
  },
  {
   "cell_type": "markdown",
   "metadata": {},
   "source": [
    "**The orders table (order data):**\n",
    "- `Uid` — Unique identifier of the user placing an order\n",
    "- `Buy Ts` — Order date and time\n",
    "- `Revenue` — Y.Afisha's revenue with order"
   ]
  },
  {
   "cell_type": "markdown",
   "metadata": {},
   "source": [
    "**The costs table (data on marketing expenses):**\n",
    "- `source_id` — Ad source identifier\n",
    "- `dt` — Date\n",
    "- `costs` — Expenses for this ad source on this day"
   ]
  },
  {
   "cell_type": "markdown",
   "metadata": {},
   "source": [
    "## **Data Preparation**"
   ]
  },
  {
   "cell_type": "code",
   "execution_count": 1,
   "metadata": {},
   "outputs": [],
   "source": [
    "# importing libraries\n",
    "import pandas as pd\n",
    "import matplotlib.pyplot as plt\n",
    "import numpy as np\n",
    "import seaborn as sns\n",
    "import scipy.stats as st"
   ]
  },
  {
   "cell_type": "code",
   "execution_count": 2,
   "metadata": {},
   "outputs": [],
   "source": [
    "# data loading\n",
    "df_costs = pd.read_csv('/datasets/costs_us.csv')\n",
    "df_orders = pd.read_csv('/datasets/orders_log_us.csv')\n",
    "df_visits = pd.read_csv('/datasets//datasets/visits_log_us.csv')"
   ]
  },
  {
   "cell_type": "markdown",
   "metadata": {},
   "source": [
    "### Dataframe Visits"
   ]
  },
  {
   "cell_type": "code",
   "execution_count": 3,
   "metadata": {},
   "outputs": [
    {
     "name": "stdout",
     "output_type": "stream",
     "text": [
      "<class 'pandas.core.frame.DataFrame'>\n",
      "RangeIndex: 359400 entries, 0 to 359399\n",
      "Data columns (total 5 columns):\n",
      " #   Column     Non-Null Count   Dtype \n",
      "---  ------     --------------   ----- \n",
      " 0   Device     359400 non-null  object\n",
      " 1   End Ts     359400 non-null  object\n",
      " 2   Source Id  359400 non-null  int64 \n",
      " 3   Start Ts   359400 non-null  object\n",
      " 4   Uid        359400 non-null  uint64\n",
      "dtypes: int64(1), object(3), uint64(1)\n",
      "memory usage: 13.7+ MB\n"
     ]
    }
   ],
   "source": [
    "# general information\n",
    "df_visits.info()"
   ]
  },
  {
   "cell_type": "code",
   "execution_count": 4,
   "metadata": {},
   "outputs": [
    {
     "data": {
      "text/html": [
       "<div>\n",
       "<style scoped>\n",
       "    .dataframe tbody tr th:only-of-type {\n",
       "        vertical-align: middle;\n",
       "    }\n",
       "\n",
       "    .dataframe tbody tr th {\n",
       "        vertical-align: top;\n",
       "    }\n",
       "\n",
       "    .dataframe thead th {\n",
       "        text-align: right;\n",
       "    }\n",
       "</style>\n",
       "<table border=\"1\" class=\"dataframe\">\n",
       "  <thead>\n",
       "    <tr style=\"text-align: right;\">\n",
       "      <th></th>\n",
       "      <th>Source Id</th>\n",
       "      <th>Uid</th>\n",
       "    </tr>\n",
       "  </thead>\n",
       "  <tbody>\n",
       "    <tr>\n",
       "      <th>count</th>\n",
       "      <td>359400.000000</td>\n",
       "      <td>3.594000e+05</td>\n",
       "    </tr>\n",
       "    <tr>\n",
       "      <th>mean</th>\n",
       "      <td>3.750515</td>\n",
       "      <td>9.202557e+18</td>\n",
       "    </tr>\n",
       "    <tr>\n",
       "      <th>std</th>\n",
       "      <td>1.917116</td>\n",
       "      <td>5.298433e+18</td>\n",
       "    </tr>\n",
       "    <tr>\n",
       "      <th>min</th>\n",
       "      <td>1.000000</td>\n",
       "      <td>1.186350e+13</td>\n",
       "    </tr>\n",
       "    <tr>\n",
       "      <th>25%</th>\n",
       "      <td>3.000000</td>\n",
       "      <td>4.613407e+18</td>\n",
       "    </tr>\n",
       "    <tr>\n",
       "      <th>50%</th>\n",
       "      <td>4.000000</td>\n",
       "      <td>9.227413e+18</td>\n",
       "    </tr>\n",
       "    <tr>\n",
       "      <th>75%</th>\n",
       "      <td>5.000000</td>\n",
       "      <td>1.372824e+19</td>\n",
       "    </tr>\n",
       "    <tr>\n",
       "      <th>max</th>\n",
       "      <td>10.000000</td>\n",
       "      <td>1.844668e+19</td>\n",
       "    </tr>\n",
       "  </tbody>\n",
       "</table>\n",
       "</div>"
      ],
      "text/plain": [
       "           Source Id           Uid\n",
       "count  359400.000000  3.594000e+05\n",
       "mean        3.750515  9.202557e+18\n",
       "std         1.917116  5.298433e+18\n",
       "min         1.000000  1.186350e+13\n",
       "25%         3.000000  4.613407e+18\n",
       "50%         4.000000  9.227413e+18\n",
       "75%         5.000000  1.372824e+19\n",
       "max        10.000000  1.844668e+19"
      ]
     },
     "execution_count": 4,
     "metadata": {},
     "output_type": "execute_result"
    }
   ],
   "source": [
    "# metric information\n",
    "df_visits.describe()"
   ]
  },
  {
   "cell_type": "code",
   "execution_count": 5,
   "metadata": {},
   "outputs": [
    {
     "data": {
      "text/plain": [
       "(359400, 5)"
      ]
     },
     "execution_count": 5,
     "metadata": {},
     "output_type": "execute_result"
    }
   ],
   "source": [
    "# dataframe size\n",
    "df_visits.shape"
   ]
  },
  {
   "cell_type": "code",
   "execution_count": 6,
   "metadata": {},
   "outputs": [
    {
     "data": {
      "text/html": [
       "<div>\n",
       "<style scoped>\n",
       "    .dataframe tbody tr th:only-of-type {\n",
       "        vertical-align: middle;\n",
       "    }\n",
       "\n",
       "    .dataframe tbody tr th {\n",
       "        vertical-align: top;\n",
       "    }\n",
       "\n",
       "    .dataframe thead th {\n",
       "        text-align: right;\n",
       "    }\n",
       "</style>\n",
       "<table border=\"1\" class=\"dataframe\">\n",
       "  <thead>\n",
       "    <tr style=\"text-align: right;\">\n",
       "      <th></th>\n",
       "      <th>Device</th>\n",
       "      <th>End Ts</th>\n",
       "      <th>Source Id</th>\n",
       "      <th>Start Ts</th>\n",
       "      <th>Uid</th>\n",
       "    </tr>\n",
       "  </thead>\n",
       "  <tbody>\n",
       "    <tr>\n",
       "      <th>0</th>\n",
       "      <td>touch</td>\n",
       "      <td>2017-12-20 17:38:00</td>\n",
       "      <td>4</td>\n",
       "      <td>2017-12-20 17:20:00</td>\n",
       "      <td>16879256277535980062</td>\n",
       "    </tr>\n",
       "    <tr>\n",
       "      <th>1</th>\n",
       "      <td>desktop</td>\n",
       "      <td>2018-02-19 17:21:00</td>\n",
       "      <td>2</td>\n",
       "      <td>2018-02-19 16:53:00</td>\n",
       "      <td>104060357244891740</td>\n",
       "    </tr>\n",
       "    <tr>\n",
       "      <th>2</th>\n",
       "      <td>touch</td>\n",
       "      <td>2017-07-01 01:54:00</td>\n",
       "      <td>5</td>\n",
       "      <td>2017-07-01 01:54:00</td>\n",
       "      <td>7459035603376831527</td>\n",
       "    </tr>\n",
       "    <tr>\n",
       "      <th>3</th>\n",
       "      <td>desktop</td>\n",
       "      <td>2018-05-20 11:23:00</td>\n",
       "      <td>9</td>\n",
       "      <td>2018-05-20 10:59:00</td>\n",
       "      <td>16174680259334210214</td>\n",
       "    </tr>\n",
       "    <tr>\n",
       "      <th>4</th>\n",
       "      <td>desktop</td>\n",
       "      <td>2017-12-27 14:06:00</td>\n",
       "      <td>3</td>\n",
       "      <td>2017-12-27 14:06:00</td>\n",
       "      <td>9969694820036681168</td>\n",
       "    </tr>\n",
       "  </tbody>\n",
       "</table>\n",
       "</div>"
      ],
      "text/plain": [
       "    Device               End Ts  Source Id             Start Ts  \\\n",
       "0    touch  2017-12-20 17:38:00          4  2017-12-20 17:20:00   \n",
       "1  desktop  2018-02-19 17:21:00          2  2018-02-19 16:53:00   \n",
       "2    touch  2017-07-01 01:54:00          5  2017-07-01 01:54:00   \n",
       "3  desktop  2018-05-20 11:23:00          9  2018-05-20 10:59:00   \n",
       "4  desktop  2017-12-27 14:06:00          3  2017-12-27 14:06:00   \n",
       "\n",
       "                    Uid  \n",
       "0  16879256277535980062  \n",
       "1    104060357244891740  \n",
       "2   7459035603376831527  \n",
       "3  16174680259334210214  \n",
       "4   9969694820036681168  "
      ]
     },
     "execution_count": 6,
     "metadata": {},
     "output_type": "execute_result"
    }
   ],
   "source": [
    "# looking at the first rows of the df_orders dataframe\n",
    "df_visits.head()"
   ]
  },
  {
   "cell_type": "code",
   "execution_count": 7,
   "metadata": {},
   "outputs": [
    {
     "data": {
      "text/plain": [
       "desktop    262567\n",
       "touch       96833\n",
       "Name: Device, dtype: int64"
      ]
     },
     "execution_count": 7,
     "metadata": {},
     "output_type": "execute_result"
    }
   ],
   "source": [
    "# checking device type count\n",
    "df_visits['Device'].value_counts()"
   ]
  },
  {
   "cell_type": "markdown",
   "metadata": {},
   "source": [
    "*Let's break down the results. As we can see, the data we have is divided into five columns. To optimize this data, we have to convert datatype of object, which takes up a lot of memory, into a more concise datatype.*\n",
    "- `Start Ts` and `End Ts` is a timestamp of session which can be converted into datetime64[ns]\n",
    "- `Device` contain only two value, which means this column can be conveted into category\n",
    "\n",
    "*In addition to updating the data type, the column names in the three files must also be changed to a consistent name.*"
   ]
  },
  {
   "cell_type": "code",
   "execution_count": 8,
   "metadata": {},
   "outputs": [
    {
     "data": {
      "text/plain": [
       "Index(['Device', 'End Ts', 'Source Id', 'Start Ts', 'Uid'], dtype='object')"
      ]
     },
     "execution_count": 8,
     "metadata": {},
     "output_type": "execute_result"
    }
   ],
   "source": [
    "# checking column names\n",
    "df_visits.columns"
   ]
  },
  {
   "cell_type": "code",
   "execution_count": 9,
   "metadata": {},
   "outputs": [
    {
     "data": {
      "text/plain": [
       "Index(['device', 'end ts', 'source id', 'start ts', 'uid'], dtype='object')"
      ]
     },
     "execution_count": 9,
     "metadata": {},
     "output_type": "execute_result"
    }
   ],
   "source": [
    "# putting column names in lower case\n",
    "df_visits.columns = df_visits.columns.str.lower()\n",
    "df_visits.columns"
   ]
  },
  {
   "cell_type": "code",
   "execution_count": 10,
   "metadata": {},
   "outputs": [],
   "source": [
    "# renaming the columns \n",
    "df_renamed = df_visits.rename(columns={'end ts':'end_ts', 'start ts':'start_ts', \n",
    "                                       'source id':'source_id', 'uid': 'user_id'}, inplace=True)"
   ]
  },
  {
   "cell_type": "code",
   "execution_count": 11,
   "metadata": {},
   "outputs": [
    {
     "data": {
      "text/plain": [
       "Index(['device', 'end_ts', 'source_id', 'start_ts', 'user_id'], dtype='object')"
      ]
     },
     "execution_count": 11,
     "metadata": {},
     "output_type": "execute_result"
    }
   ],
   "source": [
    "# checking column names again\n",
    "df_visits.columns"
   ]
  },
  {
   "cell_type": "code",
   "execution_count": 12,
   "metadata": {},
   "outputs": [
    {
     "data": {
      "text/plain": [
       "dtype('O')"
      ]
     },
     "execution_count": 12,
     "metadata": {},
     "output_type": "execute_result"
    }
   ],
   "source": [
    "# checking the format of the end_ts column\n",
    "df_visits.end_ts.dtypes"
   ]
  },
  {
   "cell_type": "code",
   "execution_count": 13,
   "metadata": {},
   "outputs": [
    {
     "data": {
      "text/plain": [
       "dtype('O')"
      ]
     },
     "execution_count": 13,
     "metadata": {},
     "output_type": "execute_result"
    }
   ],
   "source": [
    "# checking the format of the start_ts column\n",
    "df_visits.start_ts.dtypes"
   ]
  },
  {
   "cell_type": "code",
   "execution_count": 14,
   "metadata": {},
   "outputs": [
    {
     "data": {
      "text/plain": [
       "dtype('O')"
      ]
     },
     "execution_count": 14,
     "metadata": {},
     "output_type": "execute_result"
    }
   ],
   "source": [
    "# checking the format of the device column\n",
    "df_visits.device.dtypes"
   ]
  },
  {
   "cell_type": "code",
   "execution_count": 15,
   "metadata": {},
   "outputs": [],
   "source": [
    "# changing the format of the end_ts column\n",
    "df_visits['end_ts'] = pd.to_datetime(df_visits['end_ts'], format=\"%Y.%m.%d %H:%M\")"
   ]
  },
  {
   "cell_type": "code",
   "execution_count": 16,
   "metadata": {},
   "outputs": [],
   "source": [
    "# changing the format of the start_ts column\n",
    "df_visits['start_ts'] = pd.to_datetime(df_visits['start_ts'], format=\"%Y.%m.%d %H:%M\")"
   ]
  },
  {
   "cell_type": "code",
   "execution_count": 17,
   "metadata": {},
   "outputs": [],
   "source": [
    "# changing the format of the device column\n",
    "df_visits['device'] = df_visits['device'].astype('category')"
   ]
  },
  {
   "cell_type": "code",
   "execution_count": 18,
   "metadata": {},
   "outputs": [
    {
     "name": "stdout",
     "output_type": "stream",
     "text": [
      "<class 'pandas.core.frame.DataFrame'>\n",
      "RangeIndex: 359400 entries, 0 to 359399\n",
      "Data columns (total 5 columns):\n",
      " #   Column     Non-Null Count   Dtype         \n",
      "---  ------     --------------   -----         \n",
      " 0   device     359400 non-null  category      \n",
      " 1   end_ts     359400 non-null  datetime64[ns]\n",
      " 2   source_id  359400 non-null  int64         \n",
      " 3   start_ts   359400 non-null  datetime64[ns]\n",
      " 4   user_id    359400 non-null  uint64        \n",
      "dtypes: category(1), datetime64[ns](2), int64(1), uint64(1)\n",
      "memory usage: 11.3 MB\n"
     ]
    }
   ],
   "source": [
    "# general information again\n",
    "df_visits.info()"
   ]
  },
  {
   "cell_type": "code",
   "execution_count": 19,
   "metadata": {},
   "outputs": [
    {
     "data": {
      "text/html": [
       "<div>\n",
       "<style scoped>\n",
       "    .dataframe tbody tr th:only-of-type {\n",
       "        vertical-align: middle;\n",
       "    }\n",
       "\n",
       "    .dataframe tbody tr th {\n",
       "        vertical-align: top;\n",
       "    }\n",
       "\n",
       "    .dataframe thead th {\n",
       "        text-align: right;\n",
       "    }\n",
       "</style>\n",
       "<table border=\"1\" class=\"dataframe\">\n",
       "  <thead>\n",
       "    <tr style=\"text-align: right;\">\n",
       "      <th></th>\n",
       "      <th>source_id</th>\n",
       "      <th>user_id</th>\n",
       "    </tr>\n",
       "  </thead>\n",
       "  <tbody>\n",
       "    <tr>\n",
       "      <th>count</th>\n",
       "      <td>359400.000000</td>\n",
       "      <td>3.594000e+05</td>\n",
       "    </tr>\n",
       "    <tr>\n",
       "      <th>mean</th>\n",
       "      <td>3.750515</td>\n",
       "      <td>9.202557e+18</td>\n",
       "    </tr>\n",
       "    <tr>\n",
       "      <th>std</th>\n",
       "      <td>1.917116</td>\n",
       "      <td>5.298433e+18</td>\n",
       "    </tr>\n",
       "    <tr>\n",
       "      <th>min</th>\n",
       "      <td>1.000000</td>\n",
       "      <td>1.186350e+13</td>\n",
       "    </tr>\n",
       "    <tr>\n",
       "      <th>25%</th>\n",
       "      <td>3.000000</td>\n",
       "      <td>4.613407e+18</td>\n",
       "    </tr>\n",
       "    <tr>\n",
       "      <th>50%</th>\n",
       "      <td>4.000000</td>\n",
       "      <td>9.227413e+18</td>\n",
       "    </tr>\n",
       "    <tr>\n",
       "      <th>75%</th>\n",
       "      <td>5.000000</td>\n",
       "      <td>1.372824e+19</td>\n",
       "    </tr>\n",
       "    <tr>\n",
       "      <th>max</th>\n",
       "      <td>10.000000</td>\n",
       "      <td>1.844668e+19</td>\n",
       "    </tr>\n",
       "  </tbody>\n",
       "</table>\n",
       "</div>"
      ],
      "text/plain": [
       "           source_id       user_id\n",
       "count  359400.000000  3.594000e+05\n",
       "mean        3.750515  9.202557e+18\n",
       "std         1.917116  5.298433e+18\n",
       "min         1.000000  1.186350e+13\n",
       "25%         3.000000  4.613407e+18\n",
       "50%         4.000000  9.227413e+18\n",
       "75%         5.000000  1.372824e+19\n",
       "max        10.000000  1.844668e+19"
      ]
     },
     "execution_count": 19,
     "metadata": {},
     "output_type": "execute_result"
    }
   ],
   "source": [
    "# metric information again\n",
    "df_visits.describe()"
   ]
  },
  {
   "cell_type": "code",
   "execution_count": 20,
   "metadata": {},
   "outputs": [
    {
     "data": {
      "text/plain": [
       "['touch', 'desktop']\n",
       "Categories (2, object): ['touch', 'desktop']"
      ]
     },
     "execution_count": 20,
     "metadata": {},
     "output_type": "execute_result"
    }
   ],
   "source": [
    "# checking for unique values\n",
    "df_visits['device'].unique()"
   ]
  },
  {
   "cell_type": "code",
   "execution_count": 21,
   "metadata": {},
   "outputs": [
    {
     "data": {
      "text/plain": [
       "0"
      ]
     },
     "execution_count": 21,
     "metadata": {},
     "output_type": "execute_result"
    }
   ],
   "source": [
    "# checking for duplicate data\n",
    "df_visits.duplicated().sum()"
   ]
  },
  {
   "cell_type": "code",
   "execution_count": 22,
   "metadata": {},
   "outputs": [
    {
     "data": {
      "text/plain": [
       "device       0\n",
       "end_ts       0\n",
       "source_id    0\n",
       "start_ts     0\n",
       "user_id      0\n",
       "dtype: int64"
      ]
     },
     "execution_count": 22,
     "metadata": {},
     "output_type": "execute_result"
    }
   ],
   "source": [
    "# checking for missing data\n",
    "df_visits.isna().sum()"
   ]
  },
  {
   "cell_type": "code",
   "execution_count": 23,
   "metadata": {},
   "outputs": [
    {
     "data": {
      "image/png": "[encoded data removed]",
      "text/plain": [
       "<Figure size 864x432 with 1 Axes>"
      ]
     },
     "metadata": {},
     "output_type": "display_data"
    }
   ],
   "source": [
    "# boxplot\n",
    "sns.set(style=\"whitegrid\", palette=\"hot\")\n",
    "plt.figure(figsize=(12, 6))\n",
    "sns.boxplot(data=df_visits, x='source_id')\n",
    "plt.title('Boxplot de source_id')\n",
    "plt.xlabel('The ID of the advertising source')\n",
    "plt.show()"
   ]
  },
  {
   "cell_type": "markdown",
   "metadata": {},
   "source": [
    "**Column Description**\n",
    "- `device` — User's device\n",
    "- `end_ts` — Session end date and time\n",
    "- `source_id` — The ID of the advertising source, the source with which the user comes to the website\n",
    "- `start_ts` — Session start date and time\n",
    "- `user_id` — User ID"
   ]
  },
  {
   "cell_type": "markdown",
   "metadata": {},
   "source": [
    "**Overview do dataframe df_visits:**\n",
    "- *there are five columns `device`, `end_ts`, `source_id`, `start_ts` and `user_id`, all have 50415 rows*;\n",
    "- *the `device` column is of type object, the `end_ts` column is of type object, the `source_id` column is of type int64, the `start_ts` column is of type object and the `user_id` column is of type uint64*;\n",
    "- *column name changed from `end ts` to `end_ts`*;\n",
    "- *column name changed from `start ts` to `start_ts`*;\n",
    "- *column name changed from `source id` to `source_is`*;\n",
    "- *column name changed from `uid` to `user_id`*\n",
    "- *the data type of the `end_ts` and `start_ts` columns was changed from object to datetime*;\n",
    "- *there is no big difference between the mean and median in the `source_id` column*;\n",
    "- *there is no big difference between the mean and median in the `source_id` column*;\n",
    "- *no duplicate data in the dataframe*;\n",
    "- *no missing data in dataframe*;\n",
    "- *there are no outliers in the `source_id` column*"
   ]
  },
  {
   "cell_type": "markdown",
   "metadata": {},
   "source": [
    "### Dataframe Orders"
   ]
  },
  {
   "cell_type": "code",
   "execution_count": 24,
   "metadata": {},
   "outputs": [
    {
     "name": "stdout",
     "output_type": "stream",
     "text": [
      "<class 'pandas.core.frame.DataFrame'>\n",
      "RangeIndex: 50415 entries, 0 to 50414\n",
      "Data columns (total 3 columns):\n",
      " #   Column   Non-Null Count  Dtype  \n",
      "---  ------   --------------  -----  \n",
      " 0   Buy Ts   50415 non-null  object \n",
      " 1   Revenue  50415 non-null  float64\n",
      " 2   Uid      50415 non-null  uint64 \n",
      "dtypes: float64(1), object(1), uint64(1)\n",
      "memory usage: 1.2+ MB\n"
     ]
    }
   ],
   "source": [
    "# general information\n",
    "df_orders.info()"
   ]
  },
  {
   "cell_type": "code",
   "execution_count": 25,
   "metadata": {},
   "outputs": [
    {
     "data": {
      "text/html": [
       "<div>\n",
       "<style scoped>\n",
       "    .dataframe tbody tr th:only-of-type {\n",
       "        vertical-align: middle;\n",
       "    }\n",
       "\n",
       "    .dataframe tbody tr th {\n",
       "        vertical-align: top;\n",
       "    }\n",
       "\n",
       "    .dataframe thead th {\n",
       "        text-align: right;\n",
       "    }\n",
       "</style>\n",
       "<table border=\"1\" class=\"dataframe\">\n",
       "  <thead>\n",
       "    <tr style=\"text-align: right;\">\n",
       "      <th></th>\n",
       "      <th>Revenue</th>\n",
       "      <th>Uid</th>\n",
       "    </tr>\n",
       "  </thead>\n",
       "  <tbody>\n",
       "    <tr>\n",
       "      <th>count</th>\n",
       "      <td>50415.000000</td>\n",
       "      <td>5.041500e+04</td>\n",
       "    </tr>\n",
       "    <tr>\n",
       "      <th>mean</th>\n",
       "      <td>4.999647</td>\n",
       "      <td>9.098161e+18</td>\n",
       "    </tr>\n",
       "    <tr>\n",
       "      <th>std</th>\n",
       "      <td>21.818359</td>\n",
       "      <td>5.285742e+18</td>\n",
       "    </tr>\n",
       "    <tr>\n",
       "      <th>min</th>\n",
       "      <td>0.000000</td>\n",
       "      <td>3.135781e+14</td>\n",
       "    </tr>\n",
       "    <tr>\n",
       "      <th>25%</th>\n",
       "      <td>1.220000</td>\n",
       "      <td>4.533567e+18</td>\n",
       "    </tr>\n",
       "    <tr>\n",
       "      <th>50%</th>\n",
       "      <td>2.500000</td>\n",
       "      <td>9.102274e+18</td>\n",
       "    </tr>\n",
       "    <tr>\n",
       "      <th>75%</th>\n",
       "      <td>4.890000</td>\n",
       "      <td>1.368290e+19</td>\n",
       "    </tr>\n",
       "    <tr>\n",
       "      <th>max</th>\n",
       "      <td>2633.280000</td>\n",
       "      <td>1.844617e+19</td>\n",
       "    </tr>\n",
       "  </tbody>\n",
       "</table>\n",
       "</div>"
      ],
      "text/plain": [
       "            Revenue           Uid\n",
       "count  50415.000000  5.041500e+04\n",
       "mean       4.999647  9.098161e+18\n",
       "std       21.818359  5.285742e+18\n",
       "min        0.000000  3.135781e+14\n",
       "25%        1.220000  4.533567e+18\n",
       "50%        2.500000  9.102274e+18\n",
       "75%        4.890000  1.368290e+19\n",
       "max     2633.280000  1.844617e+19"
      ]
     },
     "execution_count": 25,
     "metadata": {},
     "output_type": "execute_result"
    }
   ],
   "source": [
    "# metric information\n",
    "df_orders.describe()"
   ]
  },
  {
   "cell_type": "code",
   "execution_count": 26,
   "metadata": {},
   "outputs": [
    {
     "data": {
      "text/plain": [
       "(50415, 3)"
      ]
     },
     "execution_count": 26,
     "metadata": {},
     "output_type": "execute_result"
    }
   ],
   "source": [
    "# dataframe size\n",
    "df_orders.shape"
   ]
  },
  {
   "cell_type": "code",
   "execution_count": 27,
   "metadata": {},
   "outputs": [
    {
     "data": {
      "text/html": [
       "<div>\n",
       "<style scoped>\n",
       "    .dataframe tbody tr th:only-of-type {\n",
       "        vertical-align: middle;\n",
       "    }\n",
       "\n",
       "    .dataframe tbody tr th {\n",
       "        vertical-align: top;\n",
       "    }\n",
       "\n",
       "    .dataframe thead th {\n",
       "        text-align: right;\n",
       "    }\n",
       "</style>\n",
       "<table border=\"1\" class=\"dataframe\">\n",
       "  <thead>\n",
       "    <tr style=\"text-align: right;\">\n",
       "      <th></th>\n",
       "      <th>Buy Ts</th>\n",
       "      <th>Revenue</th>\n",
       "      <th>Uid</th>\n",
       "    </tr>\n",
       "  </thead>\n",
       "  <tbody>\n",
       "    <tr>\n",
       "      <th>0</th>\n",
       "      <td>2017-06-01 00:10:00</td>\n",
       "      <td>17.00</td>\n",
       "      <td>10329302124590727494</td>\n",
       "    </tr>\n",
       "    <tr>\n",
       "      <th>1</th>\n",
       "      <td>2017-06-01 00:25:00</td>\n",
       "      <td>0.55</td>\n",
       "      <td>11627257723692907447</td>\n",
       "    </tr>\n",
       "    <tr>\n",
       "      <th>2</th>\n",
       "      <td>2017-06-01 00:27:00</td>\n",
       "      <td>0.37</td>\n",
       "      <td>17903680561304213844</td>\n",
       "    </tr>\n",
       "    <tr>\n",
       "      <th>3</th>\n",
       "      <td>2017-06-01 00:29:00</td>\n",
       "      <td>0.55</td>\n",
       "      <td>16109239769442553005</td>\n",
       "    </tr>\n",
       "    <tr>\n",
       "      <th>4</th>\n",
       "      <td>2017-06-01 07:58:00</td>\n",
       "      <td>0.37</td>\n",
       "      <td>14200605875248379450</td>\n",
       "    </tr>\n",
       "  </tbody>\n",
       "</table>\n",
       "</div>"
      ],
      "text/plain": [
       "                Buy Ts  Revenue                   Uid\n",
       "0  2017-06-01 00:10:00    17.00  10329302124590727494\n",
       "1  2017-06-01 00:25:00     0.55  11627257723692907447\n",
       "2  2017-06-01 00:27:00     0.37  17903680561304213844\n",
       "3  2017-06-01 00:29:00     0.55  16109239769442553005\n",
       "4  2017-06-01 07:58:00     0.37  14200605875248379450"
      ]
     },
     "execution_count": 27,
     "metadata": {},
     "output_type": "execute_result"
    }
   ],
   "source": [
    "# looking at the first rows of the df_orders dataframe\n",
    "df_orders.head()"
   ]
  },
  {
   "cell_type": "code",
   "execution_count": 28,
   "metadata": {},
   "outputs": [
    {
     "data": {
      "text/plain": [
       "Index(['Buy Ts', 'Revenue', 'Uid'], dtype='object')"
      ]
     },
     "execution_count": 28,
     "metadata": {},
     "output_type": "execute_result"
    }
   ],
   "source": [
    "# checking column names\n",
    "df_orders.columns"
   ]
  },
  {
   "cell_type": "code",
   "execution_count": 29,
   "metadata": {},
   "outputs": [
    {
     "data": {
      "text/plain": [
       "Index(['buy ts', 'revenue', 'uid'], dtype='object')"
      ]
     },
     "execution_count": 29,
     "metadata": {},
     "output_type": "execute_result"
    }
   ],
   "source": [
    "# putting column names in lower case\n",
    "df_orders.columns = df_orders.columns.str.lower()\n",
    "df_orders.columns"
   ]
  },
  {
   "cell_type": "code",
   "execution_count": 30,
   "metadata": {},
   "outputs": [],
   "source": [
    "# renaming the buy ts column\n",
    "df_renamed_2 = df_orders.rename(columns={'buy ts':'orders_ts', 'uid': 'user_id'}, inplace=True)"
   ]
  },
  {
   "cell_type": "code",
   "execution_count": 31,
   "metadata": {},
   "outputs": [
    {
     "data": {
      "text/plain": [
       "Index(['orders_ts', 'revenue', 'user_id'], dtype='object')"
      ]
     },
     "execution_count": 31,
     "metadata": {},
     "output_type": "execute_result"
    }
   ],
   "source": [
    "# checking column names again\n",
    "df_orders.columns"
   ]
  },
  {
   "cell_type": "code",
   "execution_count": 32,
   "metadata": {},
   "outputs": [
    {
     "data": {
      "text/plain": [
       "dtype('O')"
      ]
     },
     "execution_count": 32,
     "metadata": {},
     "output_type": "execute_result"
    }
   ],
   "source": [
    "# checking the format\n",
    "df_orders.orders_ts.dtypes"
   ]
  },
  {
   "cell_type": "code",
   "execution_count": 33,
   "metadata": {},
   "outputs": [],
   "source": [
    "# changing the format\n",
    "df_orders['orders_ts'] = pd.to_datetime(df_orders['orders_ts'], format=\"%Y.%m.%d %H:%M\")"
   ]
  },
  {
   "cell_type": "code",
   "execution_count": 34,
   "metadata": {},
   "outputs": [
    {
     "name": "stdout",
     "output_type": "stream",
     "text": [
      "<class 'pandas.core.frame.DataFrame'>\n",
      "RangeIndex: 50415 entries, 0 to 50414\n",
      "Data columns (total 3 columns):\n",
      " #   Column     Non-Null Count  Dtype         \n",
      "---  ------     --------------  -----         \n",
      " 0   orders_ts  50415 non-null  datetime64[ns]\n",
      " 1   revenue    50415 non-null  float64       \n",
      " 2   user_id    50415 non-null  uint64        \n",
      "dtypes: datetime64[ns](1), float64(1), uint64(1)\n",
      "memory usage: 1.2 MB\n"
     ]
    }
   ],
   "source": [
    "# general information again\n",
    "df_orders.info()"
   ]
  },
  {
   "cell_type": "code",
   "execution_count": 35,
   "metadata": {},
   "outputs": [
    {
     "data": {
      "text/html": [
       "<div>\n",
       "<style scoped>\n",
       "    .dataframe tbody tr th:only-of-type {\n",
       "        vertical-align: middle;\n",
       "    }\n",
       "\n",
       "    .dataframe tbody tr th {\n",
       "        vertical-align: top;\n",
       "    }\n",
       "\n",
       "    .dataframe thead th {\n",
       "        text-align: right;\n",
       "    }\n",
       "</style>\n",
       "<table border=\"1\" class=\"dataframe\">\n",
       "  <thead>\n",
       "    <tr style=\"text-align: right;\">\n",
       "      <th></th>\n",
       "      <th>revenue</th>\n",
       "      <th>user_id</th>\n",
       "    </tr>\n",
       "  </thead>\n",
       "  <tbody>\n",
       "    <tr>\n",
       "      <th>count</th>\n",
       "      <td>50415.000000</td>\n",
       "      <td>5.041500e+04</td>\n",
       "    </tr>\n",
       "    <tr>\n",
       "      <th>mean</th>\n",
       "      <td>4.999647</td>\n",
       "      <td>9.098161e+18</td>\n",
       "    </tr>\n",
       "    <tr>\n",
       "      <th>std</th>\n",
       "      <td>21.818359</td>\n",
       "      <td>5.285742e+18</td>\n",
       "    </tr>\n",
       "    <tr>\n",
       "      <th>min</th>\n",
       "      <td>0.000000</td>\n",
       "      <td>3.135781e+14</td>\n",
       "    </tr>\n",
       "    <tr>\n",
       "      <th>25%</th>\n",
       "      <td>1.220000</td>\n",
       "      <td>4.533567e+18</td>\n",
       "    </tr>\n",
       "    <tr>\n",
       "      <th>50%</th>\n",
       "      <td>2.500000</td>\n",
       "      <td>9.102274e+18</td>\n",
       "    </tr>\n",
       "    <tr>\n",
       "      <th>75%</th>\n",
       "      <td>4.890000</td>\n",
       "      <td>1.368290e+19</td>\n",
       "    </tr>\n",
       "    <tr>\n",
       "      <th>max</th>\n",
       "      <td>2633.280000</td>\n",
       "      <td>1.844617e+19</td>\n",
       "    </tr>\n",
       "  </tbody>\n",
       "</table>\n",
       "</div>"
      ],
      "text/plain": [
       "            revenue       user_id\n",
       "count  50415.000000  5.041500e+04\n",
       "mean       4.999647  9.098161e+18\n",
       "std       21.818359  5.285742e+18\n",
       "min        0.000000  3.135781e+14\n",
       "25%        1.220000  4.533567e+18\n",
       "50%        2.500000  9.102274e+18\n",
       "75%        4.890000  1.368290e+19\n",
       "max     2633.280000  1.844617e+19"
      ]
     },
     "execution_count": 35,
     "metadata": {},
     "output_type": "execute_result"
    }
   ],
   "source": [
    "# metric information again\n",
    "df_orders.describe()"
   ]
  },
  {
   "cell_type": "code",
   "execution_count": 36,
   "metadata": {},
   "outputs": [
    {
     "data": {
      "text/plain": [
       "0"
      ]
     },
     "execution_count": 36,
     "metadata": {},
     "output_type": "execute_result"
    }
   ],
   "source": [
    "# checking for duplicate data\n",
    "df_orders.duplicated().sum()"
   ]
  },
  {
   "cell_type": "code",
   "execution_count": 37,
   "metadata": {},
   "outputs": [
    {
     "data": {
      "text/plain": [
       "orders_ts    0\n",
       "revenue      0\n",
       "user_id      0\n",
       "dtype: int64"
      ]
     },
     "execution_count": 37,
     "metadata": {},
     "output_type": "execute_result"
    }
   ],
   "source": [
    "# checking for missing data\n",
    "df_orders.isna().sum()"
   ]
  },
  {
   "cell_type": "markdown",
   "metadata": {},
   "source": [
    "**Column Description**\n",
    "- `orders_ts` — Order date and time\n",
    "- `revenue` — Revenue generated per order\n",
    "- `user_id` — User ID"
   ]
  },
  {
   "cell_type": "markdown",
   "metadata": {},
   "source": [
    "**Overview do dataframe df_orders:**\n",
    "\n",
    "- *there are three columns `user_id`, `revenue` and `orders_ts`, all have 50415 rows*;\n",
    "- *the `user_id` column is of type uint64, the `revenue` column is of type float64 and the `orders_ts` column is of type object*;\n",
    "- *column name changed from `buy ts` to `orders_ts`*;\n",
    "- column name changed from `uid` to `user_id`\n",
    "- *the data type of the `orders_ts` column was changed from object to datetime*;\n",
    "- *the average is almost doble the median in the `revenue` column*;\n",
    "- *there is no big difference between the mean and median in the `user_id` column*;\n",
    "- *no duplicate data in the dataframe*;\n",
    "- *no missing data in the dataframe*;"
   ]
  },
  {
   "cell_type": "markdown",
   "metadata": {},
   "source": [
    "### Dataframe Costs"
   ]
  },
  {
   "cell_type": "code",
   "execution_count": 38,
   "metadata": {},
   "outputs": [
    {
     "name": "stdout",
     "output_type": "stream",
     "text": [
      "<class 'pandas.core.frame.DataFrame'>\n",
      "RangeIndex: 2542 entries, 0 to 2541\n",
      "Data columns (total 3 columns):\n",
      " #   Column     Non-Null Count  Dtype  \n",
      "---  ------     --------------  -----  \n",
      " 0   source_id  2542 non-null   int64  \n",
      " 1   dt         2542 non-null   object \n",
      " 2   costs      2542 non-null   float64\n",
      "dtypes: float64(1), int64(1), object(1)\n",
      "memory usage: 59.7+ KB\n"
     ]
    }
   ],
   "source": [
    "# general information\n",
    "df_costs.info()"
   ]
  },
  {
   "cell_type": "code",
   "execution_count": 39,
   "metadata": {},
   "outputs": [
    {
     "data": {
      "text/html": [
       "<div>\n",
       "<style scoped>\n",
       "    .dataframe tbody tr th:only-of-type {\n",
       "        vertical-align: middle;\n",
       "    }\n",
       "\n",
       "    .dataframe tbody tr th {\n",
       "        vertical-align: top;\n",
       "    }\n",
       "\n",
       "    .dataframe thead th {\n",
       "        text-align: right;\n",
       "    }\n",
       "</style>\n",
       "<table border=\"1\" class=\"dataframe\">\n",
       "  <thead>\n",
       "    <tr style=\"text-align: right;\">\n",
       "      <th></th>\n",
       "      <th>source_id</th>\n",
       "      <th>costs</th>\n",
       "    </tr>\n",
       "  </thead>\n",
       "  <tbody>\n",
       "    <tr>\n",
       "      <th>count</th>\n",
       "      <td>2542.000000</td>\n",
       "      <td>2542.000000</td>\n",
       "    </tr>\n",
       "    <tr>\n",
       "      <th>mean</th>\n",
       "      <td>4.857199</td>\n",
       "      <td>129.477427</td>\n",
       "    </tr>\n",
       "    <tr>\n",
       "      <th>std</th>\n",
       "      <td>3.181581</td>\n",
       "      <td>156.296628</td>\n",
       "    </tr>\n",
       "    <tr>\n",
       "      <th>min</th>\n",
       "      <td>1.000000</td>\n",
       "      <td>0.540000</td>\n",
       "    </tr>\n",
       "    <tr>\n",
       "      <th>25%</th>\n",
       "      <td>2.000000</td>\n",
       "      <td>21.945000</td>\n",
       "    </tr>\n",
       "    <tr>\n",
       "      <th>50%</th>\n",
       "      <td>4.000000</td>\n",
       "      <td>77.295000</td>\n",
       "    </tr>\n",
       "    <tr>\n",
       "      <th>75%</th>\n",
       "      <td>9.000000</td>\n",
       "      <td>170.065000</td>\n",
       "    </tr>\n",
       "    <tr>\n",
       "      <th>max</th>\n",
       "      <td>10.000000</td>\n",
       "      <td>1788.280000</td>\n",
       "    </tr>\n",
       "  </tbody>\n",
       "</table>\n",
       "</div>"
      ],
      "text/plain": [
       "         source_id        costs\n",
       "count  2542.000000  2542.000000\n",
       "mean      4.857199   129.477427\n",
       "std       3.181581   156.296628\n",
       "min       1.000000     0.540000\n",
       "25%       2.000000    21.945000\n",
       "50%       4.000000    77.295000\n",
       "75%       9.000000   170.065000\n",
       "max      10.000000  1788.280000"
      ]
     },
     "execution_count": 39,
     "metadata": {},
     "output_type": "execute_result"
    }
   ],
   "source": [
    "# metric information\n",
    "df_costs.describe()"
   ]
  },
  {
   "cell_type": "code",
   "execution_count": 40,
   "metadata": {},
   "outputs": [
    {
     "data": {
      "text/plain": [
       "(2542, 3)"
      ]
     },
     "execution_count": 40,
     "metadata": {},
     "output_type": "execute_result"
    }
   ],
   "source": [
    "# dataframe size\n",
    "df_costs.shape"
   ]
  },
  {
   "cell_type": "code",
   "execution_count": 41,
   "metadata": {},
   "outputs": [
    {
     "data": {
      "text/html": [
       "<div>\n",
       "<style scoped>\n",
       "    .dataframe tbody tr th:only-of-type {\n",
       "        vertical-align: middle;\n",
       "    }\n",
       "\n",
       "    .dataframe tbody tr th {\n",
       "        vertical-align: top;\n",
       "    }\n",
       "\n",
       "    .dataframe thead th {\n",
       "        text-align: right;\n",
       "    }\n",
       "</style>\n",
       "<table border=\"1\" class=\"dataframe\">\n",
       "  <thead>\n",
       "    <tr style=\"text-align: right;\">\n",
       "      <th></th>\n",
       "      <th>source_id</th>\n",
       "      <th>dt</th>\n",
       "      <th>costs</th>\n",
       "    </tr>\n",
       "  </thead>\n",
       "  <tbody>\n",
       "    <tr>\n",
       "      <th>0</th>\n",
       "      <td>1</td>\n",
       "      <td>2017-06-01</td>\n",
       "      <td>75.20</td>\n",
       "    </tr>\n",
       "    <tr>\n",
       "      <th>1</th>\n",
       "      <td>1</td>\n",
       "      <td>2017-06-02</td>\n",
       "      <td>62.25</td>\n",
       "    </tr>\n",
       "    <tr>\n",
       "      <th>2</th>\n",
       "      <td>1</td>\n",
       "      <td>2017-06-03</td>\n",
       "      <td>36.53</td>\n",
       "    </tr>\n",
       "    <tr>\n",
       "      <th>3</th>\n",
       "      <td>1</td>\n",
       "      <td>2017-06-04</td>\n",
       "      <td>55.00</td>\n",
       "    </tr>\n",
       "    <tr>\n",
       "      <th>4</th>\n",
       "      <td>1</td>\n",
       "      <td>2017-06-05</td>\n",
       "      <td>57.08</td>\n",
       "    </tr>\n",
       "  </tbody>\n",
       "</table>\n",
       "</div>"
      ],
      "text/plain": [
       "   source_id          dt  costs\n",
       "0          1  2017-06-01  75.20\n",
       "1          1  2017-06-02  62.25\n",
       "2          1  2017-06-03  36.53\n",
       "3          1  2017-06-04  55.00\n",
       "4          1  2017-06-05  57.08"
      ]
     },
     "execution_count": 41,
     "metadata": {},
     "output_type": "execute_result"
    }
   ],
   "source": [
    "# looking at the first rows of the df_costs dataframe\n",
    "df_costs.head()"
   ]
  },
  {
   "cell_type": "code",
   "execution_count": 42,
   "metadata": {},
   "outputs": [
    {
     "data": {
      "text/plain": [
       "Index(['source_id', 'dt', 'costs'], dtype='object')"
      ]
     },
     "execution_count": 42,
     "metadata": {},
     "output_type": "execute_result"
    }
   ],
   "source": [
    "# checking column names\n",
    "df_costs.columns"
   ]
  },
  {
   "cell_type": "code",
   "execution_count": 43,
   "metadata": {},
   "outputs": [],
   "source": [
    "# renaming the dt column\n",
    "df_renamed = df_costs.rename(columns={'dt':'date'}, inplace=True)"
   ]
  },
  {
   "cell_type": "code",
   "execution_count": 44,
   "metadata": {},
   "outputs": [
    {
     "data": {
      "text/plain": [
       "Index(['source_id', 'date', 'costs'], dtype='object')"
      ]
     },
     "execution_count": 44,
     "metadata": {},
     "output_type": "execute_result"
    }
   ],
   "source": [
    "# checking column names again\n",
    "df_costs.columns"
   ]
  },
  {
   "cell_type": "code",
   "execution_count": 45,
   "metadata": {},
   "outputs": [
    {
     "data": {
      "text/plain": [
       "dtype('O')"
      ]
     },
     "execution_count": 45,
     "metadata": {},
     "output_type": "execute_result"
    }
   ],
   "source": [
    "# checking the format\n",
    "df_costs.date.dtypes"
   ]
  },
  {
   "cell_type": "code",
   "execution_count": 46,
   "metadata": {},
   "outputs": [],
   "source": [
    "# changing the format\n",
    "df_costs['date'] = pd.to_datetime(df_costs['date'])"
   ]
  },
  {
   "cell_type": "code",
   "execution_count": 47,
   "metadata": {},
   "outputs": [
    {
     "name": "stdout",
     "output_type": "stream",
     "text": [
      "<class 'pandas.core.frame.DataFrame'>\n",
      "RangeIndex: 2542 entries, 0 to 2541\n",
      "Data columns (total 3 columns):\n",
      " #   Column     Non-Null Count  Dtype         \n",
      "---  ------     --------------  -----         \n",
      " 0   source_id  2542 non-null   int64         \n",
      " 1   date       2542 non-null   datetime64[ns]\n",
      " 2   costs      2542 non-null   float64       \n",
      "dtypes: datetime64[ns](1), float64(1), int64(1)\n",
      "memory usage: 59.7 KB\n"
     ]
    }
   ],
   "source": [
    "# general information again\n",
    "df_costs.info()"
   ]
  },
  {
   "cell_type": "code",
   "execution_count": 48,
   "metadata": {},
   "outputs": [
    {
     "data": {
      "text/html": [
       "<div>\n",
       "<style scoped>\n",
       "    .dataframe tbody tr th:only-of-type {\n",
       "        vertical-align: middle;\n",
       "    }\n",
       "\n",
       "    .dataframe tbody tr th {\n",
       "        vertical-align: top;\n",
       "    }\n",
       "\n",
       "    .dataframe thead th {\n",
       "        text-align: right;\n",
       "    }\n",
       "</style>\n",
       "<table border=\"1\" class=\"dataframe\">\n",
       "  <thead>\n",
       "    <tr style=\"text-align: right;\">\n",
       "      <th></th>\n",
       "      <th>source_id</th>\n",
       "      <th>costs</th>\n",
       "    </tr>\n",
       "  </thead>\n",
       "  <tbody>\n",
       "    <tr>\n",
       "      <th>count</th>\n",
       "      <td>2542.000000</td>\n",
       "      <td>2542.000000</td>\n",
       "    </tr>\n",
       "    <tr>\n",
       "      <th>mean</th>\n",
       "      <td>4.857199</td>\n",
       "      <td>129.477427</td>\n",
       "    </tr>\n",
       "    <tr>\n",
       "      <th>std</th>\n",
       "      <td>3.181581</td>\n",
       "      <td>156.296628</td>\n",
       "    </tr>\n",
       "    <tr>\n",
       "      <th>min</th>\n",
       "      <td>1.000000</td>\n",
       "      <td>0.540000</td>\n",
       "    </tr>\n",
       "    <tr>\n",
       "      <th>25%</th>\n",
       "      <td>2.000000</td>\n",
       "      <td>21.945000</td>\n",
       "    </tr>\n",
       "    <tr>\n",
       "      <th>50%</th>\n",
       "      <td>4.000000</td>\n",
       "      <td>77.295000</td>\n",
       "    </tr>\n",
       "    <tr>\n",
       "      <th>75%</th>\n",
       "      <td>9.000000</td>\n",
       "      <td>170.065000</td>\n",
       "    </tr>\n",
       "    <tr>\n",
       "      <th>max</th>\n",
       "      <td>10.000000</td>\n",
       "      <td>1788.280000</td>\n",
       "    </tr>\n",
       "  </tbody>\n",
       "</table>\n",
       "</div>"
      ],
      "text/plain": [
       "         source_id        costs\n",
       "count  2542.000000  2542.000000\n",
       "mean      4.857199   129.477427\n",
       "std       3.181581   156.296628\n",
       "min       1.000000     0.540000\n",
       "25%       2.000000    21.945000\n",
       "50%       4.000000    77.295000\n",
       "75%       9.000000   170.065000\n",
       "max      10.000000  1788.280000"
      ]
     },
     "execution_count": 48,
     "metadata": {},
     "output_type": "execute_result"
    }
   ],
   "source": [
    "# metric information again\n",
    "df_costs.describe()"
   ]
  },
  {
   "cell_type": "code",
   "execution_count": 49,
   "metadata": {},
   "outputs": [
    {
     "data": {
      "text/plain": [
       "0"
      ]
     },
     "execution_count": 49,
     "metadata": {},
     "output_type": "execute_result"
    }
   ],
   "source": [
    "# checking for duplicate data\n",
    "df_costs.duplicated().sum()"
   ]
  },
  {
   "cell_type": "code",
   "execution_count": 50,
   "metadata": {},
   "outputs": [
    {
     "data": {
      "text/plain": [
       "source_id    0\n",
       "date         0\n",
       "costs        0\n",
       "dtype: int64"
      ]
     },
     "execution_count": 50,
     "metadata": {},
     "output_type": "execute_result"
    }
   ],
   "source": [
    "# checking for missing data\n",
    "df_costs.isna().sum()"
   ]
  },
  {
   "cell_type": "code",
   "execution_count": 51,
   "metadata": {},
   "outputs": [
    {
     "data": {
      "image/png": "[encoded data removed]",
      "text/plain": [
       "<Figure size 864x432 with 1 Axes>"
      ]
     },
     "metadata": {},
     "output_type": "display_data"
    }
   ],
   "source": [
    "# boxplot\n",
    "sns.set(style=\"whitegrid\", palette=\"hot\")\n",
    "plt.figure(figsize=(12, 6))\n",
    "sns.boxplot(data=df_costs, x='source_id')\n",
    "plt.title('Boxplot de source_id')\n",
    "plt.xlabel('The ID of the advertising source')\n",
    "plt.show()"
   ]
  },
  {
   "cell_type": "markdown",
   "metadata": {},
   "source": [
    "**Column Description**\n",
    "- `source_id` — The ID of the advertising source\n",
    "- `date` — Date\n",
    "- `costs` — Costs incurred by the marketing division per ad source per day"
   ]
  },
  {
   "cell_type": "markdown",
   "metadata": {},
   "source": [
    "**Overview do dataframe df_costs:**\n",
    "\n",
    "- *there are three columns `source_id`, `dt` and `costs`, all have 2542 rows*;\n",
    "- *the `source_id` column is of type int64, the `dt` column is of type object and the `costs` column is of type float64*;\n",
    "- *column name changed from `dt` to `date`*;\n",
    "- *the data type of the `date` column was changed from object to datetime*;\n",
    "- *there is no big difference between the mean and median in the `source_id` column*;\n",
    "- *there is a big difference between the mean and median in the `costs` column, but with relevant standard deviation*;\n",
    "- *no duplicate data in the dataframe*;\n",
    "- *no missing data in the dataframe*;\n",
    "- *there are no outliers in the source_id column*"
   ]
  },
  {
   "cell_type": "markdown",
   "metadata": {},
   "source": [
    "## **Data Analysis**"
   ]
  },
  {
   "cell_type": "markdown",
   "metadata": {},
   "source": [
    "*After the data has been loaded and optimized, we can start performing the analysis based on the assigned task. This project divides the analysis process into 3 topics:*\n",
    "- Product Analysis\n",
    "- Sales Analysis\n",
    "- Marketing Analysis"
   ]
  },
  {
   "cell_type": "markdown",
   "metadata": {},
   "source": [
    "### **Product Analysis**\n",
    "\n",
    "*By conducting product analysis, you were expected to answer these following questions:*\n",
    "- How many people **use** the product **every day**, **week**, and **month**?\n",
    "- What is the number of **sessions per day**? (One user may have more than one session).\n",
    "- What is the **duration** for **each session**?\n",
    "- How often do **users return** to using the product?\n",
    "\n",
    "*Daily, weekly, and monthly active user*\n",
    "\n",
    "*To answer the first question, we have to obtain the main metrics that can describe the number of active users*\n",
    "- **DAU** — number of daily active users (unique)\n",
    "- **WAU** — number of weekly active users\n",
    "- **MAU** — number of monthly active users"
   ]
  },
  {
   "cell_type": "markdown",
   "metadata": {},
   "source": [
    "*We have the user ID, the source of the user's origin, as well as a timestamp that contains session start and session end data. To calculate weekly and monthly activity, we must first create separate columns for the year, month, and week values.*"
   ]
  },
  {
   "cell_type": "code",
   "execution_count": 52,
   "metadata": {},
   "outputs": [
    {
     "data": {
      "text/html": [
       "<div>\n",
       "<style scoped>\n",
       "    .dataframe tbody tr th:only-of-type {\n",
       "        vertical-align: middle;\n",
       "    }\n",
       "\n",
       "    .dataframe tbody tr th {\n",
       "        vertical-align: top;\n",
       "    }\n",
       "\n",
       "    .dataframe thead th {\n",
       "        text-align: right;\n",
       "    }\n",
       "</style>\n",
       "<table border=\"1\" class=\"dataframe\">\n",
       "  <thead>\n",
       "    <tr style=\"text-align: right;\">\n",
       "      <th></th>\n",
       "      <th>device</th>\n",
       "      <th>end_ts</th>\n",
       "      <th>source_id</th>\n",
       "      <th>start_ts</th>\n",
       "      <th>user_id</th>\n",
       "      <th>year</th>\n",
       "      <th>month</th>\n",
       "      <th>week</th>\n",
       "      <th>date</th>\n",
       "    </tr>\n",
       "  </thead>\n",
       "  <tbody>\n",
       "    <tr>\n",
       "      <th>0</th>\n",
       "      <td>touch</td>\n",
       "      <td>2017-12-20 17:38:00</td>\n",
       "      <td>4</td>\n",
       "      <td>2017-12-20 17:20:00</td>\n",
       "      <td>16879256277535980062</td>\n",
       "      <td>2017</td>\n",
       "      <td>12</td>\n",
       "      <td>51</td>\n",
       "      <td>2017-12-20</td>\n",
       "    </tr>\n",
       "    <tr>\n",
       "      <th>1</th>\n",
       "      <td>desktop</td>\n",
       "      <td>2018-02-19 17:21:00</td>\n",
       "      <td>2</td>\n",
       "      <td>2018-02-19 16:53:00</td>\n",
       "      <td>104060357244891740</td>\n",
       "      <td>2018</td>\n",
       "      <td>2</td>\n",
       "      <td>8</td>\n",
       "      <td>2018-02-19</td>\n",
       "    </tr>\n",
       "    <tr>\n",
       "      <th>2</th>\n",
       "      <td>touch</td>\n",
       "      <td>2017-07-01 01:54:00</td>\n",
       "      <td>5</td>\n",
       "      <td>2017-07-01 01:54:00</td>\n",
       "      <td>7459035603376831527</td>\n",
       "      <td>2017</td>\n",
       "      <td>7</td>\n",
       "      <td>26</td>\n",
       "      <td>2017-07-01</td>\n",
       "    </tr>\n",
       "    <tr>\n",
       "      <th>3</th>\n",
       "      <td>desktop</td>\n",
       "      <td>2018-05-20 11:23:00</td>\n",
       "      <td>9</td>\n",
       "      <td>2018-05-20 10:59:00</td>\n",
       "      <td>16174680259334210214</td>\n",
       "      <td>2018</td>\n",
       "      <td>5</td>\n",
       "      <td>20</td>\n",
       "      <td>2018-05-20</td>\n",
       "    </tr>\n",
       "    <tr>\n",
       "      <th>4</th>\n",
       "      <td>desktop</td>\n",
       "      <td>2017-12-27 14:06:00</td>\n",
       "      <td>3</td>\n",
       "      <td>2017-12-27 14:06:00</td>\n",
       "      <td>9969694820036681168</td>\n",
       "      <td>2017</td>\n",
       "      <td>12</td>\n",
       "      <td>52</td>\n",
       "      <td>2017-12-27</td>\n",
       "    </tr>\n",
       "  </tbody>\n",
       "</table>\n",
       "</div>"
      ],
      "text/plain": [
       "    device              end_ts  source_id            start_ts  \\\n",
       "0    touch 2017-12-20 17:38:00          4 2017-12-20 17:20:00   \n",
       "1  desktop 2018-02-19 17:21:00          2 2018-02-19 16:53:00   \n",
       "2    touch 2017-07-01 01:54:00          5 2017-07-01 01:54:00   \n",
       "3  desktop 2018-05-20 11:23:00          9 2018-05-20 10:59:00   \n",
       "4  desktop 2017-12-27 14:06:00          3 2017-12-27 14:06:00   \n",
       "\n",
       "                user_id  year  month  week        date  \n",
       "0  16879256277535980062  2017     12    51  2017-12-20  \n",
       "1    104060357244891740  2018      2     8  2018-02-19  \n",
       "2   7459035603376831527  2017      7    26  2017-07-01  \n",
       "3  16174680259334210214  2018      5    20  2018-05-20  \n",
       "4   9969694820036681168  2017     12    52  2017-12-27  "
      ]
     },
     "execution_count": 52,
     "metadata": {},
     "output_type": "execute_result"
    }
   ],
   "source": [
    "df_visits['year'] = df_visits['start_ts'].dt.year\n",
    "df_visits['month'] = df_visits['start_ts'].dt.month\n",
    "df_visits['week'] = df_visits['start_ts'].dt.isocalendar().week\n",
    "df_visits['date'] = df_visits['start_ts'].dt.date\n",
    "\n",
    "df_visits.head()"
   ]
  },
  {
   "cell_type": "markdown",
   "metadata": {},
   "source": [
    "**Column Description**\n",
    "- `device` — User's device\n",
    "- `end_ts` — Session end date and time\n",
    "- `source_id` — The ID of the advertising source, the source with which the user comes to the website\n",
    "- `start_ts` — Session start date and time\n",
    "- `user_id` — User ID\n",
    "- `year` — The year of session start\n",
    "- `month` — The month of session start\n",
    "- `week` — The ISO week date of session start\n",
    "- `date` — the date of session start in the format of %Y-%m-%d"
   ]
  },
  {
   "cell_type": "markdown",
   "metadata": {},
   "source": [
    "*Now, let's calculate the metric. We'll group the existing data by the date/week/month of the session and look for the average values:*"
   ]
  },
  {
   "cell_type": "code",
   "execution_count": 53,
   "metadata": {},
   "outputs": [
    {
     "name": "stdout",
     "output_type": "stream",
     "text": [
      "Average daily user: 907 People\n",
      "Average weekly user: 5825 People\n",
      "Average monthly user: 23228 People\n"
     ]
    }
   ],
   "source": [
    "dau = (df_visits.groupby('date').agg({'user_id':'nunique'}).mean())\n",
    "\n",
    "wau = (df_visits.groupby('week').agg({'user_id':'nunique'}).mean())\n",
    "\n",
    "mau = (df_visits.groupby('month').agg({'user_id':'nunique'}).mean())\n",
    "\n",
    "print('Average daily user:', int(dau), 'People')\n",
    "print('Average weekly user:', int(wau), 'People')\n",
    "print('Average monthly user:', int(mau), 'People')"
   ]
  },
  {
   "cell_type": "markdown",
   "metadata": {},
   "source": [
    "*There we go, we have answered the first question of product analysis.*\n",
    "- Average daily user: 907 People\n",
    "- Average weekly user: 5,825 People\n",
    "- Average monthly user: 23,228 People"
   ]
  },
  {
   "cell_type": "markdown",
   "metadata": {},
   "source": [
    "#### Session per Day\n",
    "\n",
    "*To answer the second question, we will need a metric of **Session per Day**. Calculating this metric is relatively easy. We just need to count the session of each day and obtain the average value.*\n"
   ]
  },
  {
   "cell_type": "code",
   "execution_count": 54,
   "metadata": {},
   "outputs": [
    {
     "name": "stdout",
     "output_type": "stream",
     "text": [
      "Average session per day: 987 Session\n"
     ]
    }
   ],
   "source": [
    "avg_session_per_day = (df_visits.groupby('date').agg({'user_id':'count'}).mean())\n",
    "\n",
    "print('Average session per day:', int(avg_session_per_day), 'Session')"
   ]
  },
  {
   "cell_type": "markdown",
   "metadata": {},
   "source": [
    "*There we go, now we know that in average, Y.Afisha was visited 987 times each day. Please note that the same person can open the website 2 or more times per day.*"
   ]
  },
  {
   "cell_type": "markdown",
   "metadata": {},
   "source": [
    "*For even more interesting insights, we can calculate the Session per User metric. We just need to divide the number of sessions by the number of users for a given period, Let's say that we want to know the numbe of session per user for each month.*"
   ]
  },
  {
   "cell_type": "code",
   "execution_count": 55,
   "metadata": {},
   "outputs": [
    {
     "name": "stdout",
     "output_type": "stream",
     "text": [
      "On average, it turns out that each user spends at most 1 Session per month\n"
     ]
    }
   ],
   "source": [
    "avg_session_per_month = (df_visits.groupby('month').agg({'user_id':'count'}).mean())\n",
    "\n",
    "avg_n_users_per_month = (df_visits.groupby('month').agg({'user_id':'nunique'}).mean())\n",
    "\n",
    "average_session_per_user = avg_session_per_month / avg_n_users_per_month\n",
    "\n",
    "print('On average, it turns out that each user spends at most', int(average_session_per_user), 'Session per month')"
   ]
  },
  {
   "cell_type": "markdown",
   "metadata": {},
   "source": [
    "*On average, it turns out that each user spends at most 1 session per month visiting the website. Thus, we cannot mention that this website is used regularly.*"
   ]
  },
  {
   "cell_type": "markdown",
   "metadata": {},
   "source": [
    "#### Average Session Length\n",
    "\n",
    "*Average session length or ASL is the amount of time a user spends while using the product in an average session. Whether or not an ASL is \"good\" depends on the nature of your product.*"
   ]
  },
  {
   "cell_type": "markdown",
   "metadata": {},
   "source": [
    "*Let's find the ASL by calculating the length of the entire session duration and finding the average:*"
   ]
  },
  {
   "cell_type": "code",
   "execution_count": 56,
   "metadata": {},
   "outputs": [
    {
     "name": "stdout",
     "output_type": "stream",
     "text": [
      "Average session length: 10.73 minutes\n"
     ]
    }
   ],
   "source": [
    "df_visits['duration'] = (df_visits['end_ts'] - df_visits['start_ts']).dt.seconds\n",
    "print('Average session length:', (df_visits['duration'].mean()/60).round(2),'minutes')"
   ]
  },
  {
   "cell_type": "markdown",
   "metadata": {},
   "source": [
    "*In average, the session length of Y.Afisha visitors are approximately at 10 minutes. This value is makes sense because each user will require time to surf the contents of the Y.Afisha website before finally terminating the session.*"
   ]
  },
  {
   "cell_type": "markdown",
   "metadata": {},
   "source": [
    "*Let's dive deeper and look into the session length distribution:*"
   ]
  },
  {
   "cell_type": "code",
   "execution_count": 57,
   "metadata": {},
   "outputs": [
    {
     "name": "stdout",
     "output_type": "stream",
     "text": [
      "Mode of session length: 60 seconds\n"
     ]
    },
    {
     "data": {
      "image/png": "[encoded data removed]",
      "text/plain": [
       "<Figure size 864x648 with 1 Axes>"
      ]
     },
     "metadata": {},
     "output_type": "display_data"
    }
   ],
   "source": [
    "df_visits['duration'].hist(bins=100, range=(0,3000), figsize=(12, 9), color = \"cornflowerblue\", edgecolor='black')\n",
    "\n",
    "print('Mode of session length:', int(df_visits['duration'].mode()), 'seconds')"
   ]
  },
  {
   "cell_type": "markdown",
   "metadata": {},
   "source": [
    "*It turns out that our session length distribution is not normal. In this case, we need to use the mode instead of average or median.*\n",
    "\n",
    "*Therefore, the mode of session length of Y.Afisha visits is 60 seconds.*"
   ]
  },
  {
   "cell_type": "markdown",
   "metadata": {},
   "source": [
    "#### Sticky Factor\n",
    "\n",
    "*To answer the last question, we can use the **Sticky Factor** metric. This metric shows the level of audience loyalty—how often users return to your website. The formula is quite simple, we just need the ratio of daily average user to the weekly/monthly average user.*"
   ]
  },
  {
   "cell_type": "code",
   "execution_count": 58,
   "metadata": {},
   "outputs": [
    {
     "name": "stdout",
     "output_type": "stream",
     "text": [
      "Weekly sticky factor: 15.59 %\n",
      "Monthly sticky factor: 3.91 %\n"
     ]
    }
   ],
   "source": [
    "sticky_wau = (dau / wau) * 100\n",
    "sticky_mau = (dau / mau) * 100\n",
    "\n",
    "print('Weekly sticky factor:',\"%.2f\" % sticky_wau, '%')\n",
    "print('Monthly sticky factor:',\"%.2f\" % sticky_mau, '%')"
   ]
  },
  {
   "cell_type": "markdown",
   "metadata": {},
   "source": [
    "*It turns out that Y.Afisha have low level of sticky factor. The marketing teams will need to find a way to increase this.*"
   ]
  },
  {
   "cell_type": "markdown",
   "metadata": {},
   "source": [
    "**Intermediate Conclusions**\n",
    "\n",
    "*On **product analysis**, we answer the question asked by calculating these following metrics.*\n",
    "- **Active User**\n",
    "    - Daily: 907 users\n",
    "    - Weekly: 5,825 users\n",
    "    - Monthly: 23,228 users\n",
    "- **Session per Day**: 987 sessions\n",
    "- **Session Length**:\n",
    "    - Average: 10 minutes\n",
    "    - Mode: 60 seconds\n",
    "- **Sticky Factor**:\n",
    "    - Weekly: 15.59%\n",
    "    - Monthly: 3.91%"
   ]
  },
  {
   "cell_type": "markdown",
   "metadata": {},
   "source": [
    "### **Sales Analysis**\n",
    "\n",
    "*By conducting product analysis, you were expected to answer these following questions:*\n",
    "- **When** do people **start** making purchases?\n",
    "- How many **orders** do they make **over a period of time**?\n",
    "- What is the **average purchase size**?\n",
    "- How much money do they contribute? (**LTV**)"
   ]
  },
  {
   "cell_type": "markdown",
   "metadata": {},
   "source": [
    "#### Lead time\n",
    "\n",
    "*To answer the first question, we need to calculate the **lead time** metric. A lead time is the latency between the initiation and completion of a process. Or in this scenario, a latency between the first time a user visit the Y.Afisha website and the first time user complete an order.*\n",
    "\n",
    "*We have the order time stamp, the revenue, as well as a the user ID. To calculate lead time, we must first create separate columns for the time stamp of the first order and the first session of each user.*"
   ]
  },
  {
   "cell_type": "code",
   "execution_count": 59,
   "metadata": {},
   "outputs": [
    {
     "data": {
      "text/html": [
       "<div>\n",
       "<style scoped>\n",
       "    .dataframe tbody tr th:only-of-type {\n",
       "        vertical-align: middle;\n",
       "    }\n",
       "\n",
       "    .dataframe tbody tr th {\n",
       "        vertical-align: top;\n",
       "    }\n",
       "\n",
       "    .dataframe thead th {\n",
       "        text-align: right;\n",
       "    }\n",
       "</style>\n",
       "<table border=\"1\" class=\"dataframe\">\n",
       "  <thead>\n",
       "    <tr style=\"text-align: right;\">\n",
       "      <th></th>\n",
       "      <th>orders_ts</th>\n",
       "      <th>revenue</th>\n",
       "      <th>user_id</th>\n",
       "      <th>first_order_ts</th>\n",
       "      <th>first_session_ts</th>\n",
       "      <th>lead_time</th>\n",
       "    </tr>\n",
       "  </thead>\n",
       "  <tbody>\n",
       "    <tr>\n",
       "      <th>0</th>\n",
       "      <td>2017-06-01 00:10:00</td>\n",
       "      <td>17.00</td>\n",
       "      <td>10329302124590727494</td>\n",
       "      <td>2017-06-01 00:10:00</td>\n",
       "      <td>2017-06-01 00:09:00</td>\n",
       "      <td>1.0</td>\n",
       "    </tr>\n",
       "    <tr>\n",
       "      <th>1</th>\n",
       "      <td>2017-06-01 00:25:00</td>\n",
       "      <td>0.55</td>\n",
       "      <td>11627257723692907447</td>\n",
       "      <td>2017-06-01 00:25:00</td>\n",
       "      <td>2017-06-01 00:14:00</td>\n",
       "      <td>11.0</td>\n",
       "    </tr>\n",
       "    <tr>\n",
       "      <th>2</th>\n",
       "      <td>2017-06-01 00:27:00</td>\n",
       "      <td>0.37</td>\n",
       "      <td>17903680561304213844</td>\n",
       "      <td>2017-06-01 00:27:00</td>\n",
       "      <td>2017-06-01 00:25:00</td>\n",
       "      <td>2.0</td>\n",
       "    </tr>\n",
       "    <tr>\n",
       "      <th>3</th>\n",
       "      <td>2017-06-01 00:29:00</td>\n",
       "      <td>0.55</td>\n",
       "      <td>16109239769442553005</td>\n",
       "      <td>2017-06-01 00:29:00</td>\n",
       "      <td>2017-06-01 00:14:00</td>\n",
       "      <td>15.0</td>\n",
       "    </tr>\n",
       "    <tr>\n",
       "      <th>4</th>\n",
       "      <td>2017-06-01 07:58:00</td>\n",
       "      <td>0.37</td>\n",
       "      <td>14200605875248379450</td>\n",
       "      <td>2017-06-01 07:58:00</td>\n",
       "      <td>2017-06-01 07:31:00</td>\n",
       "      <td>27.0</td>\n",
       "    </tr>\n",
       "  </tbody>\n",
       "</table>\n",
       "</div>"
      ],
      "text/plain": [
       "            orders_ts  revenue               user_id      first_order_ts  \\\n",
       "0 2017-06-01 00:10:00    17.00  10329302124590727494 2017-06-01 00:10:00   \n",
       "1 2017-06-01 00:25:00     0.55  11627257723692907447 2017-06-01 00:25:00   \n",
       "2 2017-06-01 00:27:00     0.37  17903680561304213844 2017-06-01 00:27:00   \n",
       "3 2017-06-01 00:29:00     0.55  16109239769442553005 2017-06-01 00:29:00   \n",
       "4 2017-06-01 07:58:00     0.37  14200605875248379450 2017-06-01 07:58:00   \n",
       "\n",
       "     first_session_ts  lead_time  \n",
       "0 2017-06-01 00:09:00        1.0  \n",
       "1 2017-06-01 00:14:00       11.0  \n",
       "2 2017-06-01 00:25:00        2.0  \n",
       "3 2017-06-01 00:14:00       15.0  \n",
       "4 2017-06-01 07:31:00       27.0  "
      ]
     },
     "execution_count": 59,
     "metadata": {},
     "output_type": "execute_result"
    }
   ],
   "source": [
    "first_order_ts = df_orders.groupby('user_id')['orders_ts'].min()\n",
    "first_session_ts = df_visits.groupby('user_id')['start_ts'].min()\n",
    "\n",
    "first_order_ts.name = 'first_order_ts'\n",
    "first_session_ts.name = 'first_session_ts'\n",
    "\n",
    "df_orders = df_orders.join(first_order_ts, on='user_id')\n",
    "df_orders = df_orders.join(first_session_ts, on='user_id')\n",
    "\n",
    "df_orders['lead_time'] = ((df_orders['first_order_ts'] - df_orders['first_session_ts']).dt.seconds)/(60)\n",
    "\n",
    "df_orders.head()"
   ]
  },
  {
   "cell_type": "markdown",
   "metadata": {},
   "source": [
    "**Column Description**\n",
    "- `orders_ts` — Order date and time\n",
    "- `revenue` — Revenue generated per order\n",
    "- `user_id` — User ID\n",
    "- `first_order_ts` — First order date and time\n",
    "- `first_session_ts` — First session start date and time\n",
    "- `lead_time` — Latency between the first visit and the first order in minutes"
   ]
  },
  {
   "cell_type": "code",
   "execution_count": 60,
   "metadata": {},
   "outputs": [
    {
     "name": "stdout",
     "output_type": "stream",
     "text": [
      "Median time taken before user decide to order: 20 minutes\n",
      "Average time taken before user decide to order: 284 minutes\n",
      "Maximum time taken before user decide to order: 24 hours\n"
     ]
    },
    {
     "data": {
      "image/png": "[encoded data removed]",
      "text/plain": [
       "<Figure size 864x648 with 1 Axes>"
      ]
     },
     "metadata": {},
     "output_type": "display_data"
    }
   ],
   "source": [
    "df_orders['lead_time'].hist(bins=75, figsize=(12, 9), color = \"cornflowerblue\", edgecolor='black')\n",
    "\n",
    "print('Median time taken before user decide to order:',int(df_orders['lead_time'].median()), 'minutes')\n",
    "print('Average time taken before user decide to order:',int(df_orders['lead_time'].mean()), 'minutes')\n",
    "print('Maximum time taken before user decide to order:', int((df_orders['lead_time'].max()/60).round()), 'hours')\n"
   ]
  },
  {
   "cell_type": "markdown",
   "metadata": {},
   "source": [
    "#### Cohort Analysis\n",
    "\n",
    "*To answer the second question, we need to conduct a cohort analysis and create a heatmap visualization as the output.*\n",
    "\n",
    "*All the data needed for cohort analysis is ready: knowing the date of the order allows us to take the earliest date. Then, after grouping users by their first purchase date, we can create a cohort.*\n",
    "\n",
    "*All the data needed for cohort analysis is ready: We already have the data of first order and the order time stamp. The next step is to separate the month from the dates in the and columns. Let's call the method and change the values of both columns to type. In type, is the timestamp range—in this case the range is months.*\n",
    "\n",
    "*Next, let's look at the cohort's life cycle. We will subtract the cohort month from the month in which the purchase was made.*"
   ]
  },
  {
   "cell_type": "code",
   "execution_count": 61,
   "metadata": {},
   "outputs": [
    {
     "data": {
      "text/html": [
       "<div>\n",
       "<style scoped>\n",
       "    .dataframe tbody tr th:only-of-type {\n",
       "        vertical-align: middle;\n",
       "    }\n",
       "\n",
       "    .dataframe tbody tr th {\n",
       "        vertical-align: top;\n",
       "    }\n",
       "\n",
       "    .dataframe thead th {\n",
       "        text-align: right;\n",
       "    }\n",
       "</style>\n",
       "<table border=\"1\" class=\"dataframe\">\n",
       "  <thead>\n",
       "    <tr style=\"text-align: right;\">\n",
       "      <th></th>\n",
       "      <th>orders_ts</th>\n",
       "      <th>revenue</th>\n",
       "      <th>user_id</th>\n",
       "      <th>first_order_ts</th>\n",
       "      <th>first_session_ts</th>\n",
       "      <th>lead_time</th>\n",
       "      <th>first_order_month</th>\n",
       "      <th>order_month</th>\n",
       "      <th>cohort_lifetime</th>\n",
       "    </tr>\n",
       "  </thead>\n",
       "  <tbody>\n",
       "    <tr>\n",
       "      <th>0</th>\n",
       "      <td>2017-06-01 00:10:00</td>\n",
       "      <td>17.00</td>\n",
       "      <td>10329302124590727494</td>\n",
       "      <td>2017-06-01 00:10:00</td>\n",
       "      <td>2017-06-01 00:09:00</td>\n",
       "      <td>1.0</td>\n",
       "      <td>2017-06</td>\n",
       "      <td>2017-06-01</td>\n",
       "      <td>0</td>\n",
       "    </tr>\n",
       "    <tr>\n",
       "      <th>1</th>\n",
       "      <td>2017-06-01 00:25:00</td>\n",
       "      <td>0.55</td>\n",
       "      <td>11627257723692907447</td>\n",
       "      <td>2017-06-01 00:25:00</td>\n",
       "      <td>2017-06-01 00:14:00</td>\n",
       "      <td>11.0</td>\n",
       "      <td>2017-06</td>\n",
       "      <td>2017-06-01</td>\n",
       "      <td>0</td>\n",
       "    </tr>\n",
       "    <tr>\n",
       "      <th>2</th>\n",
       "      <td>2017-06-01 00:27:00</td>\n",
       "      <td>0.37</td>\n",
       "      <td>17903680561304213844</td>\n",
       "      <td>2017-06-01 00:27:00</td>\n",
       "      <td>2017-06-01 00:25:00</td>\n",
       "      <td>2.0</td>\n",
       "      <td>2017-06</td>\n",
       "      <td>2017-06-01</td>\n",
       "      <td>0</td>\n",
       "    </tr>\n",
       "    <tr>\n",
       "      <th>3</th>\n",
       "      <td>2017-06-01 00:29:00</td>\n",
       "      <td>0.55</td>\n",
       "      <td>16109239769442553005</td>\n",
       "      <td>2017-06-01 00:29:00</td>\n",
       "      <td>2017-06-01 00:14:00</td>\n",
       "      <td>15.0</td>\n",
       "      <td>2017-06</td>\n",
       "      <td>2017-06-01</td>\n",
       "      <td>0</td>\n",
       "    </tr>\n",
       "    <tr>\n",
       "      <th>4</th>\n",
       "      <td>2017-06-01 07:58:00</td>\n",
       "      <td>0.37</td>\n",
       "      <td>14200605875248379450</td>\n",
       "      <td>2017-06-01 07:58:00</td>\n",
       "      <td>2017-06-01 07:31:00</td>\n",
       "      <td>27.0</td>\n",
       "      <td>2017-06</td>\n",
       "      <td>2017-06-01</td>\n",
       "      <td>0</td>\n",
       "    </tr>\n",
       "  </tbody>\n",
       "</table>\n",
       "</div>"
      ],
      "text/plain": [
       "            orders_ts  revenue               user_id      first_order_ts  \\\n",
       "0 2017-06-01 00:10:00    17.00  10329302124590727494 2017-06-01 00:10:00   \n",
       "1 2017-06-01 00:25:00     0.55  11627257723692907447 2017-06-01 00:25:00   \n",
       "2 2017-06-01 00:27:00     0.37  17903680561304213844 2017-06-01 00:27:00   \n",
       "3 2017-06-01 00:29:00     0.55  16109239769442553005 2017-06-01 00:29:00   \n",
       "4 2017-06-01 07:58:00     0.37  14200605875248379450 2017-06-01 07:58:00   \n",
       "\n",
       "     first_session_ts  lead_time first_order_month order_month  \\\n",
       "0 2017-06-01 00:09:00        1.0           2017-06  2017-06-01   \n",
       "1 2017-06-01 00:14:00       11.0           2017-06  2017-06-01   \n",
       "2 2017-06-01 00:25:00        2.0           2017-06  2017-06-01   \n",
       "3 2017-06-01 00:14:00       15.0           2017-06  2017-06-01   \n",
       "4 2017-06-01 07:31:00       27.0           2017-06  2017-06-01   \n",
       "\n",
       "   cohort_lifetime  \n",
       "0                0  \n",
       "1                0  \n",
       "2                0  \n",
       "3                0  \n",
       "4                0  "
      ]
     },
     "execution_count": 61,
     "metadata": {},
     "output_type": "execute_result"
    }
   ],
   "source": [
    "df_orders['first_order_month'] = df_orders['first_order_ts'].astype('datetime64[M]')\n",
    "df_orders['order_month'] = df_orders['orders_ts'].astype('datetime64[M]')\n",
    "\n",
    "df_orders['cohort_lifetime'] = (df_orders['order_month'] - df_orders['first_order_month']) / np.timedelta64(1, 'M')\n",
    "df_orders['cohort_lifetime'] = df_orders['cohort_lifetime'].round().astype('int')\n",
    "\n",
    "df_orders['first_order_month'] = df_orders['first_order_month'].dt.strftime('%Y-%m') \n",
    "\n",
    "df_orders.head()"
   ]
  },
  {
   "cell_type": "markdown",
   "metadata": {},
   "source": [
    "**Column Description**\n",
    "- `orders_ts` — Order date and time\n",
    "- `revenue` — Revenue generated per order\n",
    "- `user_id` — User ID\n",
    "- `first_order_ts` — First order date and time\n",
    "- `first_session_ts` — First session start date and time\n",
    "- `lead_time` — Latency between the first visit and the first order in minutes\n",
    "- `first_order_month` — cohort month\n",
    "- `order_mont` — Order month\n",
    "- `cohort_lifetime` — the number of months of purchase relative to the cohort month."
   ]
  },
  {
   "cell_type": "markdown",
   "metadata": {},
   "source": [
    "*Now we'll build a pivot table that shows the change in count of order. Its columns will contain the lifecycle and the rows will contain cohorts*"
   ]
  },
  {
   "cell_type": "code",
   "execution_count": 62,
   "metadata": {},
   "outputs": [
    {
     "data": {
      "text/html": [
       "<div>\n",
       "<style scoped>\n",
       "    .dataframe tbody tr th:only-of-type {\n",
       "        vertical-align: middle;\n",
       "    }\n",
       "\n",
       "    .dataframe tbody tr th {\n",
       "        vertical-align: top;\n",
       "    }\n",
       "\n",
       "    .dataframe thead th {\n",
       "        text-align: right;\n",
       "    }\n",
       "</style>\n",
       "<table border=\"1\" class=\"dataframe\">\n",
       "  <thead>\n",
       "    <tr style=\"text-align: right;\">\n",
       "      <th>cohort_lifetime</th>\n",
       "      <th>0</th>\n",
       "      <th>1</th>\n",
       "      <th>2</th>\n",
       "      <th>3</th>\n",
       "      <th>4</th>\n",
       "      <th>5</th>\n",
       "      <th>6</th>\n",
       "      <th>7</th>\n",
       "      <th>8</th>\n",
       "      <th>9</th>\n",
       "      <th>10</th>\n",
       "      <th>11</th>\n",
       "    </tr>\n",
       "    <tr>\n",
       "      <th>first_order_month</th>\n",
       "      <th></th>\n",
       "      <th></th>\n",
       "      <th></th>\n",
       "      <th></th>\n",
       "      <th></th>\n",
       "      <th></th>\n",
       "      <th></th>\n",
       "      <th></th>\n",
       "      <th></th>\n",
       "      <th></th>\n",
       "      <th></th>\n",
       "      <th></th>\n",
       "    </tr>\n",
       "  </thead>\n",
       "  <tbody>\n",
       "    <tr>\n",
       "      <th>2017-06</th>\n",
       "      <td>2354.0</td>\n",
       "      <td>177.0</td>\n",
       "      <td>174.0</td>\n",
       "      <td>226.0</td>\n",
       "      <td>292.0</td>\n",
       "      <td>218.0</td>\n",
       "      <td>276.0</td>\n",
       "      <td>174.0</td>\n",
       "      <td>212.0</td>\n",
       "      <td>153.0</td>\n",
       "      <td>96.0</td>\n",
       "      <td>86.0</td>\n",
       "    </tr>\n",
       "    <tr>\n",
       "      <th>2017-07</th>\n",
       "      <td>2186.0</td>\n",
       "      <td>100.0</td>\n",
       "      <td>120.0</td>\n",
       "      <td>104.0</td>\n",
       "      <td>72.0</td>\n",
       "      <td>82.0</td>\n",
       "      <td>61.0</td>\n",
       "      <td>50.0</td>\n",
       "      <td>58.0</td>\n",
       "      <td>24.0</td>\n",
       "      <td>53.0</td>\n",
       "      <td></td>\n",
       "    </tr>\n",
       "    <tr>\n",
       "      <th>2017-08</th>\n",
       "      <td>1533.0</td>\n",
       "      <td>108.0</td>\n",
       "      <td>100.0</td>\n",
       "      <td>81.0</td>\n",
       "      <td>85.0</td>\n",
       "      <td>62.0</td>\n",
       "      <td>49.0</td>\n",
       "      <td>78.0</td>\n",
       "      <td>46.0</td>\n",
       "      <td>46.0</td>\n",
       "      <td></td>\n",
       "      <td></td>\n",
       "    </tr>\n",
       "    <tr>\n",
       "      <th>2017-09</th>\n",
       "      <td>2933.0</td>\n",
       "      <td>219.0</td>\n",
       "      <td>161.0</td>\n",
       "      <td>164.0</td>\n",
       "      <td>67.0</td>\n",
       "      <td>109.0</td>\n",
       "      <td>108.0</td>\n",
       "      <td>56.0</td>\n",
       "      <td>61.0</td>\n",
       "      <td></td>\n",
       "      <td></td>\n",
       "      <td></td>\n",
       "    </tr>\n",
       "    <tr>\n",
       "      <th>2017-10</th>\n",
       "      <td>4964.0</td>\n",
       "      <td>314.0</td>\n",
       "      <td>162.0</td>\n",
       "      <td>122.0</td>\n",
       "      <td>129.0</td>\n",
       "      <td>103.0</td>\n",
       "      <td>86.0</td>\n",
       "      <td>125.0</td>\n",
       "      <td></td>\n",
       "      <td></td>\n",
       "      <td></td>\n",
       "      <td></td>\n",
       "    </tr>\n",
       "    <tr>\n",
       "      <th>2017-11</th>\n",
       "      <td>4813.0</td>\n",
       "      <td>397.0</td>\n",
       "      <td>182.0</td>\n",
       "      <td>211.0</td>\n",
       "      <td>136.0</td>\n",
       "      <td>59.0</td>\n",
       "      <td>102.0</td>\n",
       "      <td></td>\n",
       "      <td></td>\n",
       "      <td></td>\n",
       "      <td></td>\n",
       "      <td></td>\n",
       "    </tr>\n",
       "    <tr>\n",
       "      <th>2017-12</th>\n",
       "      <td>5052.0</td>\n",
       "      <td>270.0</td>\n",
       "      <td>202.0</td>\n",
       "      <td>179.0</td>\n",
       "      <td>86.0</td>\n",
       "      <td>105.0</td>\n",
       "      <td></td>\n",
       "      <td></td>\n",
       "      <td></td>\n",
       "      <td></td>\n",
       "      <td></td>\n",
       "      <td></td>\n",
       "    </tr>\n",
       "    <tr>\n",
       "      <th>2018-01</th>\n",
       "      <td>3783.0</td>\n",
       "      <td>224.0</td>\n",
       "      <td>159.0</td>\n",
       "      <td>64.0</td>\n",
       "      <td>78.0</td>\n",
       "      <td></td>\n",
       "      <td></td>\n",
       "      <td></td>\n",
       "      <td></td>\n",
       "      <td></td>\n",
       "      <td></td>\n",
       "      <td></td>\n",
       "    </tr>\n",
       "    <tr>\n",
       "      <th>2018-02</th>\n",
       "      <td>4095.0</td>\n",
       "      <td>222.0</td>\n",
       "      <td>83.0</td>\n",
       "      <td>70.0</td>\n",
       "      <td></td>\n",
       "      <td></td>\n",
       "      <td></td>\n",
       "      <td></td>\n",
       "      <td></td>\n",
       "      <td></td>\n",
       "      <td></td>\n",
       "      <td></td>\n",
       "    </tr>\n",
       "    <tr>\n",
       "      <th>2018-03</th>\n",
       "      <td>4130.0</td>\n",
       "      <td>178.0</td>\n",
       "      <td>176.0</td>\n",
       "      <td></td>\n",
       "      <td></td>\n",
       "      <td></td>\n",
       "      <td></td>\n",
       "      <td></td>\n",
       "      <td></td>\n",
       "      <td></td>\n",
       "      <td></td>\n",
       "      <td></td>\n",
       "    </tr>\n",
       "    <tr>\n",
       "      <th>2018-04</th>\n",
       "      <td>2495.0</td>\n",
       "      <td>195.0</td>\n",
       "      <td></td>\n",
       "      <td></td>\n",
       "      <td></td>\n",
       "      <td></td>\n",
       "      <td></td>\n",
       "      <td></td>\n",
       "      <td></td>\n",
       "      <td></td>\n",
       "      <td></td>\n",
       "      <td></td>\n",
       "    </tr>\n",
       "    <tr>\n",
       "      <th>2018-05</th>\n",
       "      <td>3249.0</td>\n",
       "      <td></td>\n",
       "      <td></td>\n",
       "      <td></td>\n",
       "      <td></td>\n",
       "      <td></td>\n",
       "      <td></td>\n",
       "      <td></td>\n",
       "      <td></td>\n",
       "      <td></td>\n",
       "      <td></td>\n",
       "      <td></td>\n",
       "    </tr>\n",
       "    <tr>\n",
       "      <th>2018-06</th>\n",
       "      <td>1.0</td>\n",
       "      <td></td>\n",
       "      <td></td>\n",
       "      <td></td>\n",
       "      <td></td>\n",
       "      <td></td>\n",
       "      <td></td>\n",
       "      <td></td>\n",
       "      <td></td>\n",
       "      <td></td>\n",
       "      <td></td>\n",
       "      <td></td>\n",
       "    </tr>\n",
       "  </tbody>\n",
       "</table>\n",
       "</div>"
      ],
      "text/plain": [
       "cohort_lifetime        0      1      2      3      4      5      6      7   \\\n",
       "first_order_month                                                            \n",
       "2017-06            2354.0  177.0  174.0  226.0  292.0  218.0  276.0  174.0   \n",
       "2017-07            2186.0  100.0  120.0  104.0   72.0   82.0   61.0   50.0   \n",
       "2017-08            1533.0  108.0  100.0   81.0   85.0   62.0   49.0   78.0   \n",
       "2017-09            2933.0  219.0  161.0  164.0   67.0  109.0  108.0   56.0   \n",
       "2017-10            4964.0  314.0  162.0  122.0  129.0  103.0   86.0  125.0   \n",
       "2017-11            4813.0  397.0  182.0  211.0  136.0   59.0  102.0          \n",
       "2017-12            5052.0  270.0  202.0  179.0   86.0  105.0                 \n",
       "2018-01            3783.0  224.0  159.0   64.0   78.0                        \n",
       "2018-02            4095.0  222.0   83.0   70.0                               \n",
       "2018-03            4130.0  178.0  176.0                                      \n",
       "2018-04            2495.0  195.0                                             \n",
       "2018-05            3249.0                                                    \n",
       "2018-06               1.0                                                    \n",
       "\n",
       "cohort_lifetime       8      9     10    11  \n",
       "first_order_month                            \n",
       "2017-06            212.0  153.0  96.0  86.0  \n",
       "2017-07             58.0   24.0  53.0        \n",
       "2017-08             46.0   46.0              \n",
       "2017-09             61.0                     \n",
       "2017-10                                      \n",
       "2017-11                                      \n",
       "2017-12                                      \n",
       "2018-01                                      \n",
       "2018-02                                      \n",
       "2018-03                                      \n",
       "2018-04                                      \n",
       "2018-05                                      \n",
       "2018-06                                      "
      ]
     },
     "execution_count": 62,
     "metadata": {},
     "output_type": "execute_result"
    }
   ],
   "source": [
    "order_pivot = df_orders.pivot_table(\n",
    "    index='first_order_month',\n",
    "    columns='cohort_lifetime',\n",
    "    values='user_id',\n",
    "    aggfunc='count',\n",
    ")\n",
    "\n",
    "order_pivot.fillna('')"
   ]
  },
  {
   "cell_type": "markdown",
   "metadata": {},
   "source": [
    "*Unfortunately, it is difficult to draw conclusions from such tables: the values look blurred and identical to each other. No value is really capable of attracting attention. However, if we add color and modify the table into a heatmap, the trends and patterns will become clearer.*"
   ]
  },
  {
   "cell_type": "code",
   "execution_count": 85,
   "metadata": {},
   "outputs": [
    {
     "data": {
      "image/png": "[encoded data removed]",
      "text/plain": [
       "<Figure size 864x648 with 2 Axes>"
      ]
     },
     "metadata": {},
     "output_type": "display_data"
    }
   ],
   "source": [
    "plt.figure(figsize=(12, 9))\n",
    "plt.title('Count of orders over a cohort lifetime')\n",
    "df_order_heatmap = sns.heatmap(\n",
    "    order_pivot,\n",
    "    annot=True,\n",
    "    fmt='.1f',\n",
    "    linewidths=1,\n",
    "    linecolor='black',\n",
    "    cmap='icefire')"
   ]
  },
  {
   "cell_type": "markdown",
   "metadata": {},
   "source": [
    "*The first 6 cohort generally experience an increase until peaked on December 2017. Eventually, the orders experience a natural drops as older cohorts have more time to place orders.*\n",
    "\n",
    "*We can also draw another conclusion: the number of users in each cohort life time decreases drastically from month to month. This indicates that the number of customers making second or more purchases is getting less and less.*"
   ]
  },
  {
   "cell_type": "markdown",
   "metadata": {},
   "source": [
    "#### Average Purchase Size\n",
    "\n",
    "*Average Purchase Value refers to the average dollar amount spent on your services for each customer. This metric can either be calculated based on the overall value of the contract or it's annual, quarterly, monthly, or weekly value. In this scenario, we will calculate purchase size for each cohort and cohort life time.*"
   ]
  },
  {
   "cell_type": "code",
   "execution_count": 64,
   "metadata": {},
   "outputs": [
    {
     "data": {
      "text/html": [
       "<div>\n",
       "<style scoped>\n",
       "    .dataframe tbody tr th:only-of-type {\n",
       "        vertical-align: middle;\n",
       "    }\n",
       "\n",
       "    .dataframe tbody tr th {\n",
       "        vertical-align: top;\n",
       "    }\n",
       "\n",
       "    .dataframe thead th {\n",
       "        text-align: right;\n",
       "    }\n",
       "</style>\n",
       "<table border=\"1\" class=\"dataframe\">\n",
       "  <thead>\n",
       "    <tr style=\"text-align: right;\">\n",
       "      <th></th>\n",
       "      <th></th>\n",
       "      <th>sum_revenue</th>\n",
       "      <th>n_users</th>\n",
       "      <th>revenue_per_user</th>\n",
       "    </tr>\n",
       "    <tr>\n",
       "      <th>first_order_month</th>\n",
       "      <th>cohort_lifetime</th>\n",
       "      <th></th>\n",
       "      <th></th>\n",
       "      <th></th>\n",
       "    </tr>\n",
       "  </thead>\n",
       "  <tbody>\n",
       "    <tr>\n",
       "      <th rowspan=\"5\" valign=\"top\">2017-06</th>\n",
       "      <th>0</th>\n",
       "      <td>9557.49</td>\n",
       "      <td>2023</td>\n",
       "      <td>4.724414</td>\n",
       "    </tr>\n",
       "    <tr>\n",
       "      <th>1</th>\n",
       "      <td>981.82</td>\n",
       "      <td>61</td>\n",
       "      <td>16.095410</td>\n",
       "    </tr>\n",
       "    <tr>\n",
       "      <th>2</th>\n",
       "      <td>885.34</td>\n",
       "      <td>50</td>\n",
       "      <td>17.706800</td>\n",
       "    </tr>\n",
       "    <tr>\n",
       "      <th>3</th>\n",
       "      <td>1931.30</td>\n",
       "      <td>54</td>\n",
       "      <td>35.764815</td>\n",
       "    </tr>\n",
       "    <tr>\n",
       "      <th>4</th>\n",
       "      <td>2068.58</td>\n",
       "      <td>88</td>\n",
       "      <td>23.506591</td>\n",
       "    </tr>\n",
       "    <tr>\n",
       "      <th>...</th>\n",
       "      <th>...</th>\n",
       "      <td>...</td>\n",
       "      <td>...</td>\n",
       "      <td>...</td>\n",
       "    </tr>\n",
       "    <tr>\n",
       "      <th>2018-03</th>\n",
       "      <th>2</th>\n",
       "      <td>1114.87</td>\n",
       "      <td>58</td>\n",
       "      <td>19.221897</td>\n",
       "    </tr>\n",
       "    <tr>\n",
       "      <th rowspan=\"2\" valign=\"top\">2018-04</th>\n",
       "      <th>0</th>\n",
       "      <td>10600.69</td>\n",
       "      <td>2276</td>\n",
       "      <td>4.657597</td>\n",
       "    </tr>\n",
       "    <tr>\n",
       "      <th>1</th>\n",
       "      <td>1209.92</td>\n",
       "      <td>69</td>\n",
       "      <td>17.535072</td>\n",
       "    </tr>\n",
       "    <tr>\n",
       "      <th>2018-05</th>\n",
       "      <th>0</th>\n",
       "      <td>13925.76</td>\n",
       "      <td>2988</td>\n",
       "      <td>4.660562</td>\n",
       "    </tr>\n",
       "    <tr>\n",
       "      <th>2018-06</th>\n",
       "      <th>0</th>\n",
       "      <td>3.42</td>\n",
       "      <td>1</td>\n",
       "      <td>3.420000</td>\n",
       "    </tr>\n",
       "  </tbody>\n",
       "</table>\n",
       "<p>79 rows × 3 columns</p>\n",
       "</div>"
      ],
      "text/plain": [
       "                                   sum_revenue  n_users  revenue_per_user\n",
       "first_order_month cohort_lifetime                                        \n",
       "2017-06           0                    9557.49     2023          4.724414\n",
       "                  1                     981.82       61         16.095410\n",
       "                  2                     885.34       50         17.706800\n",
       "                  3                    1931.30       54         35.764815\n",
       "                  4                    2068.58       88         23.506591\n",
       "...                                        ...      ...               ...\n",
       "2018-03           2                    1114.87       58         19.221897\n",
       "2018-04           0                   10600.69     2276          4.657597\n",
       "                  1                    1209.92       69         17.535072\n",
       "2018-05           0                   13925.76     2988          4.660562\n",
       "2018-06           0                       3.42        1          3.420000\n",
       "\n",
       "[79 rows x 3 columns]"
      ]
     },
     "execution_count": 64,
     "metadata": {},
     "output_type": "execute_result"
    }
   ],
   "source": [
    "orders_grouped_by_cohorts = df_orders.groupby(['first_order_month', 'cohort_lifetime']).agg({'revenue': 'sum', 'user_id': 'nunique'})\n",
    "\n",
    "orders_grouped_by_cohorts['revenue_per_user'] = (orders_grouped_by_cohorts['revenue'] / orders_grouped_by_cohorts['user_id']) \n",
    "\n",
    "orders_grouped_by_cohorts.columns = ['sum_revenue', 'n_users', 'revenue_per_user']\n",
    "\n",
    "orders_grouped_by_cohorts"
   ]
  },
  {
   "cell_type": "markdown",
   "metadata": {},
   "source": [
    "*Now we'll build a pivot table that shows the change in revenue per order average. Its columns will contain the lifecycle and the rows will contain cohorts*"
   ]
  },
  {
   "cell_type": "code",
   "execution_count": 65,
   "metadata": {},
   "outputs": [
    {
     "data": {
      "text/html": [
       "<div>\n",
       "<style scoped>\n",
       "    .dataframe tbody tr th:only-of-type {\n",
       "        vertical-align: middle;\n",
       "    }\n",
       "\n",
       "    .dataframe tbody tr th {\n",
       "        vertical-align: top;\n",
       "    }\n",
       "\n",
       "    .dataframe thead th {\n",
       "        text-align: right;\n",
       "    }\n",
       "</style>\n",
       "<table border=\"1\" class=\"dataframe\">\n",
       "  <thead>\n",
       "    <tr style=\"text-align: right;\">\n",
       "      <th>cohort_lifetime</th>\n",
       "      <th>0</th>\n",
       "      <th>1</th>\n",
       "      <th>2</th>\n",
       "      <th>3</th>\n",
       "      <th>4</th>\n",
       "      <th>5</th>\n",
       "      <th>6</th>\n",
       "      <th>7</th>\n",
       "      <th>8</th>\n",
       "      <th>9</th>\n",
       "      <th>10</th>\n",
       "      <th>11</th>\n",
       "    </tr>\n",
       "    <tr>\n",
       "      <th>first_order_month</th>\n",
       "      <th></th>\n",
       "      <th></th>\n",
       "      <th></th>\n",
       "      <th></th>\n",
       "      <th></th>\n",
       "      <th></th>\n",
       "      <th></th>\n",
       "      <th></th>\n",
       "      <th></th>\n",
       "      <th></th>\n",
       "      <th></th>\n",
       "      <th></th>\n",
       "    </tr>\n",
       "  </thead>\n",
       "  <tbody>\n",
       "    <tr>\n",
       "      <th>2017-06</th>\n",
       "      <td>4.724414</td>\n",
       "      <td>16.09541</td>\n",
       "      <td>17.7068</td>\n",
       "      <td>35.764815</td>\n",
       "      <td>23.506591</td>\n",
       "      <td>22.207761</td>\n",
       "      <td>31.011935</td>\n",
       "      <td>25.033191</td>\n",
       "      <td>19.29569</td>\n",
       "      <td>27.233556</td>\n",
       "      <td>25.681333</td>\n",
       "      <td>9.804151</td>\n",
       "    </tr>\n",
       "    <tr>\n",
       "      <th>2017-07</th>\n",
       "      <td>6.010218</td>\n",
       "      <td>12.396346</td>\n",
       "      <td>21.035965</td>\n",
       "      <td>10.786094</td>\n",
       "      <td>6.938163</td>\n",
       "      <td>7.896842</td>\n",
       "      <td>6.421111</td>\n",
       "      <td>6.992821</td>\n",
       "      <td>7.382143</td>\n",
       "      <td>12.861818</td>\n",
       "      <td>11.513846</td>\n",
       "      <td></td>\n",
       "    </tr>\n",
       "    <tr>\n",
       "      <th>2017-08</th>\n",
       "      <td>5.276518</td>\n",
       "      <td>11.148793</td>\n",
       "      <td>11.851321</td>\n",
       "      <td>12.182955</td>\n",
       "      <td>16.92125</td>\n",
       "      <td>12.139063</td>\n",
       "      <td>9.620333</td>\n",
       "      <td>12.610455</td>\n",
       "      <td>21.07</td>\n",
       "      <td>8.307419</td>\n",
       "      <td></td>\n",
       "      <td></td>\n",
       "    </tr>\n",
       "    <tr>\n",
       "      <th>2017-09</th>\n",
       "      <td>5.644529</td>\n",
       "      <td>22.188385</td>\n",
       "      <td>13.4452</td>\n",
       "      <td>138.669189</td>\n",
       "      <td>19.881538</td>\n",
       "      <td>26.095</td>\n",
       "      <td>27.437121</td>\n",
       "      <td>16.961351</td>\n",
       "      <td>11.044651</td>\n",
       "      <td></td>\n",
       "      <td></td>\n",
       "      <td></td>\n",
       "    </tr>\n",
       "    <tr>\n",
       "      <th>2017-10</th>\n",
       "      <td>5.003733</td>\n",
       "      <td>11.287427</td>\n",
       "      <td>6.753252</td>\n",
       "      <td>7.413152</td>\n",
       "      <td>7.072796</td>\n",
       "      <td>7.255139</td>\n",
       "      <td>6.573214</td>\n",
       "      <td>7.479701</td>\n",
       "      <td></td>\n",
       "      <td></td>\n",
       "      <td></td>\n",
       "      <td></td>\n",
       "    </tr>\n",
       "    <tr>\n",
       "      <th>2017-11</th>\n",
       "      <td>5.154683</td>\n",
       "      <td>7.339054</td>\n",
       "      <td>6.786583</td>\n",
       "      <td>12.51066</td>\n",
       "      <td>7.457284</td>\n",
       "      <td>4.580833</td>\n",
       "      <td>7.564839</td>\n",
       "      <td></td>\n",
       "      <td></td>\n",
       "      <td></td>\n",
       "      <td></td>\n",
       "      <td></td>\n",
       "    </tr>\n",
       "    <tr>\n",
       "      <th>2017-12</th>\n",
       "      <td>4.738191</td>\n",
       "      <td>7.816575</td>\n",
       "      <td>39.366019</td>\n",
       "      <td>48.135052</td>\n",
       "      <td>27.4314</td>\n",
       "      <td>23.518413</td>\n",
       "      <td></td>\n",
       "      <td></td>\n",
       "      <td></td>\n",
       "      <td></td>\n",
       "      <td></td>\n",
       "      <td></td>\n",
       "    </tr>\n",
       "    <tr>\n",
       "      <th>2018-01</th>\n",
       "      <td>4.135636</td>\n",
       "      <td>8.721228</td>\n",
       "      <td>12.365542</td>\n",
       "      <td>11.199767</td>\n",
       "      <td>4.699556</td>\n",
       "      <td></td>\n",
       "      <td></td>\n",
       "      <td></td>\n",
       "      <td></td>\n",
       "      <td></td>\n",
       "      <td></td>\n",
       "      <td></td>\n",
       "    </tr>\n",
       "    <tr>\n",
       "      <th>2018-02</th>\n",
       "      <td>4.156987</td>\n",
       "      <td>8.61</td>\n",
       "      <td>4.942414</td>\n",
       "      <td>6.941026</td>\n",
       "      <td></td>\n",
       "      <td></td>\n",
       "      <td></td>\n",
       "      <td></td>\n",
       "      <td></td>\n",
       "      <td></td>\n",
       "      <td></td>\n",
       "      <td></td>\n",
       "    </tr>\n",
       "    <tr>\n",
       "      <th>2018-03</th>\n",
       "      <td>4.838803</td>\n",
       "      <td>11.811667</td>\n",
       "      <td>19.221897</td>\n",
       "      <td></td>\n",
       "      <td></td>\n",
       "      <td></td>\n",
       "      <td></td>\n",
       "      <td></td>\n",
       "      <td></td>\n",
       "      <td></td>\n",
       "      <td></td>\n",
       "      <td></td>\n",
       "    </tr>\n",
       "    <tr>\n",
       "      <th>2018-04</th>\n",
       "      <td>4.657597</td>\n",
       "      <td>17.535072</td>\n",
       "      <td></td>\n",
       "      <td></td>\n",
       "      <td></td>\n",
       "      <td></td>\n",
       "      <td></td>\n",
       "      <td></td>\n",
       "      <td></td>\n",
       "      <td></td>\n",
       "      <td></td>\n",
       "      <td></td>\n",
       "    </tr>\n",
       "    <tr>\n",
       "      <th>2018-05</th>\n",
       "      <td>4.660562</td>\n",
       "      <td></td>\n",
       "      <td></td>\n",
       "      <td></td>\n",
       "      <td></td>\n",
       "      <td></td>\n",
       "      <td></td>\n",
       "      <td></td>\n",
       "      <td></td>\n",
       "      <td></td>\n",
       "      <td></td>\n",
       "      <td></td>\n",
       "    </tr>\n",
       "    <tr>\n",
       "      <th>2018-06</th>\n",
       "      <td>3.420000</td>\n",
       "      <td></td>\n",
       "      <td></td>\n",
       "      <td></td>\n",
       "      <td></td>\n",
       "      <td></td>\n",
       "      <td></td>\n",
       "      <td></td>\n",
       "      <td></td>\n",
       "      <td></td>\n",
       "      <td></td>\n",
       "      <td></td>\n",
       "    </tr>\n",
       "  </tbody>\n",
       "</table>\n",
       "</div>"
      ],
      "text/plain": [
       "cohort_lifetime          0          1          2           3          4   \\\n",
       "first_order_month                                                          \n",
       "2017-06            4.724414   16.09541    17.7068   35.764815  23.506591   \n",
       "2017-07            6.010218  12.396346  21.035965   10.786094   6.938163   \n",
       "2017-08            5.276518  11.148793  11.851321   12.182955   16.92125   \n",
       "2017-09            5.644529  22.188385    13.4452  138.669189  19.881538   \n",
       "2017-10            5.003733  11.287427   6.753252    7.413152   7.072796   \n",
       "2017-11            5.154683   7.339054   6.786583    12.51066   7.457284   \n",
       "2017-12            4.738191   7.816575  39.366019   48.135052    27.4314   \n",
       "2018-01            4.135636   8.721228  12.365542   11.199767   4.699556   \n",
       "2018-02            4.156987       8.61   4.942414    6.941026              \n",
       "2018-03            4.838803  11.811667  19.221897                          \n",
       "2018-04            4.657597  17.535072                                     \n",
       "2018-05            4.660562                                                \n",
       "2018-06            3.420000                                                \n",
       "\n",
       "cohort_lifetime           5          6          7          8          9   \\\n",
       "first_order_month                                                          \n",
       "2017-06            22.207761  31.011935  25.033191   19.29569  27.233556   \n",
       "2017-07             7.896842   6.421111   6.992821   7.382143  12.861818   \n",
       "2017-08            12.139063   9.620333  12.610455      21.07   8.307419   \n",
       "2017-09               26.095  27.437121  16.961351  11.044651              \n",
       "2017-10             7.255139   6.573214   7.479701                         \n",
       "2017-11             4.580833   7.564839                                    \n",
       "2017-12            23.518413                                               \n",
       "2018-01                                                                    \n",
       "2018-02                                                                    \n",
       "2018-03                                                                    \n",
       "2018-04                                                                    \n",
       "2018-05                                                                    \n",
       "2018-06                                                                    \n",
       "\n",
       "cohort_lifetime           10        11  \n",
       "first_order_month                       \n",
       "2017-06            25.681333  9.804151  \n",
       "2017-07            11.513846            \n",
       "2017-08                                 \n",
       "2017-09                                 \n",
       "2017-10                                 \n",
       "2017-11                                 \n",
       "2017-12                                 \n",
       "2018-01                                 \n",
       "2018-02                                 \n",
       "2018-03                                 \n",
       "2018-04                                 \n",
       "2018-05                                 \n",
       "2018-06                                 "
      ]
     },
     "execution_count": 65,
     "metadata": {},
     "output_type": "execute_result"
    }
   ],
   "source": [
    "revenue_pivot = orders_grouped_by_cohorts.pivot_table(\n",
    "    index='first_order_month',\n",
    "    columns='cohort_lifetime',\n",
    "    values='revenue_per_user',\n",
    "    aggfunc='mean') \n",
    "\n",
    "revenue_pivot.fillna('')"
   ]
  },
  {
   "cell_type": "markdown",
   "metadata": {},
   "source": [
    "*Then, we will visualize the pivoted data into a heatmap.*"
   ]
  },
  {
   "cell_type": "code",
   "execution_count": 66,
   "metadata": {},
   "outputs": [
    {
     "data": {
      "image/png": "[encoded data removed]",
      "text/plain": [
       "<Figure size 864x648 with 2 Axes>"
      ]
     },
     "metadata": {},
     "output_type": "display_data"
    }
   ],
   "source": [
    "plt.figure(figsize=(12, 9))\n",
    "plt.title('Average of revenue per user over a cohort lifetime')\n",
    "revenue_heatmap = sns.heatmap(\n",
    "    revenue_pivot,\n",
    "    annot=True,\n",
    "    fmt='.1f',\n",
    "    linewidths=1,\n",
    "    linecolor='black',\n",
    "    cmap='icefire')"
   ]
  },
  {
   "cell_type": "markdown",
   "metadata": {},
   "source": [
    "#### Lifetime Value\n",
    "\n",
    "*Lifetime Value (LTV) is the value of the \"lifecycle\" of a customer. This value is the total amount of money that a customer gives to the company on average by making a purchase. When calculating LTV, analysts usually take into account the gross profit of a customer per period.*\n",
    "\n",
    "*Let's revisit what we need to do:*\n",
    "    \n",
    "    1. Search for the first purchase date of each customer\n",
    "    2. Calculates the number of new subscribers for each date (or date range — in this case, for each month)\n",
    "    3. Add the month the first order was placed into the \"orders\" table\n",
    "    4. Group tables and calculate revenue\n",
    "\n",
    "*The data period we have covers almost a year. Therefore, it will be easier if we create a monthly cohort. We calculate the number of new buyers for each month*"
   ]
  },
  {
   "cell_type": "code",
   "execution_count": 67,
   "metadata": {},
   "outputs": [
    {
     "data": {
      "text/html": [
       "<div>\n",
       "<style scoped>\n",
       "    .dataframe tbody tr th:only-of-type {\n",
       "        vertical-align: middle;\n",
       "    }\n",
       "\n",
       "    .dataframe tbody tr th {\n",
       "        vertical-align: top;\n",
       "    }\n",
       "\n",
       "    .dataframe thead th {\n",
       "        text-align: right;\n",
       "    }\n",
       "</style>\n",
       "<table border=\"1\" class=\"dataframe\">\n",
       "  <thead>\n",
       "    <tr style=\"text-align: right;\">\n",
       "      <th></th>\n",
       "      <th>first_order_month</th>\n",
       "      <th>n_buyers</th>\n",
       "    </tr>\n",
       "  </thead>\n",
       "  <tbody>\n",
       "    <tr>\n",
       "      <th>0</th>\n",
       "      <td>2017-06</td>\n",
       "      <td>2023</td>\n",
       "    </tr>\n",
       "    <tr>\n",
       "      <th>1</th>\n",
       "      <td>2017-07</td>\n",
       "      <td>1923</td>\n",
       "    </tr>\n",
       "    <tr>\n",
       "      <th>2</th>\n",
       "      <td>2017-08</td>\n",
       "      <td>1370</td>\n",
       "    </tr>\n",
       "    <tr>\n",
       "      <th>3</th>\n",
       "      <td>2017-09</td>\n",
       "      <td>2581</td>\n",
       "    </tr>\n",
       "    <tr>\n",
       "      <th>4</th>\n",
       "      <td>2017-10</td>\n",
       "      <td>4340</td>\n",
       "    </tr>\n",
       "  </tbody>\n",
       "</table>\n",
       "</div>"
      ],
      "text/plain": [
       "  first_order_month  n_buyers\n",
       "0           2017-06      2023\n",
       "1           2017-07      1923\n",
       "2           2017-08      1370\n",
       "3           2017-09      2581\n",
       "4           2017-10      4340"
      ]
     },
     "execution_count": 67,
     "metadata": {},
     "output_type": "execute_result"
    }
   ],
   "source": [
    "# calculate the number of new subscribers () for each month\n",
    "cohort_sizes = df_orders.groupby('first_order_month').agg({'user_id': 'nunique'}).reset_index()\n",
    "cohort_sizes.columns = ['first_order_month', 'n_buyers']\n",
    "\n",
    "cohort_sizes.head()"
   ]
  },
  {
   "cell_type": "markdown",
   "metadata": {},
   "source": [
    "*Now is the time for us to create a cohort. We'll group the \"orders\" table by month of first purchase and month of purchase / cohort lifetime. Then, we add up the income. We reset the index to its original state.*"
   ]
  },
  {
   "cell_type": "code",
   "execution_count": 68,
   "metadata": {},
   "outputs": [
    {
     "data": {
      "text/html": [
       "<div>\n",
       "<style scoped>\n",
       "    .dataframe tbody tr th:only-of-type {\n",
       "        vertical-align: middle;\n",
       "    }\n",
       "\n",
       "    .dataframe tbody tr th {\n",
       "        vertical-align: top;\n",
       "    }\n",
       "\n",
       "    .dataframe thead th {\n",
       "        text-align: right;\n",
       "    }\n",
       "</style>\n",
       "<table border=\"1\" class=\"dataframe\">\n",
       "  <thead>\n",
       "    <tr style=\"text-align: right;\">\n",
       "      <th></th>\n",
       "      <th>first_order_month</th>\n",
       "      <th>cohort_lifetime</th>\n",
       "      <th>order_month</th>\n",
       "      <th>revenue</th>\n",
       "    </tr>\n",
       "  </thead>\n",
       "  <tbody>\n",
       "    <tr>\n",
       "      <th>0</th>\n",
       "      <td>2017-06</td>\n",
       "      <td>0</td>\n",
       "      <td>2017-06-01</td>\n",
       "      <td>9557.49</td>\n",
       "    </tr>\n",
       "    <tr>\n",
       "      <th>1</th>\n",
       "      <td>2017-06</td>\n",
       "      <td>1</td>\n",
       "      <td>2017-07-01</td>\n",
       "      <td>981.82</td>\n",
       "    </tr>\n",
       "    <tr>\n",
       "      <th>2</th>\n",
       "      <td>2017-06</td>\n",
       "      <td>2</td>\n",
       "      <td>2017-08-01</td>\n",
       "      <td>885.34</td>\n",
       "    </tr>\n",
       "    <tr>\n",
       "      <th>3</th>\n",
       "      <td>2017-06</td>\n",
       "      <td>3</td>\n",
       "      <td>2017-09-01</td>\n",
       "      <td>1931.30</td>\n",
       "    </tr>\n",
       "    <tr>\n",
       "      <th>4</th>\n",
       "      <td>2017-06</td>\n",
       "      <td>4</td>\n",
       "      <td>2017-10-01</td>\n",
       "      <td>2068.58</td>\n",
       "    </tr>\n",
       "  </tbody>\n",
       "</table>\n",
       "</div>"
      ],
      "text/plain": [
       "  first_order_month  cohort_lifetime order_month  revenue\n",
       "0           2017-06                0  2017-06-01  9557.49\n",
       "1           2017-06                1  2017-07-01   981.82\n",
       "2           2017-06                2  2017-08-01   885.34\n",
       "3           2017-06                3  2017-09-01  1931.30\n",
       "4           2017-06                4  2017-10-01  2068.58"
      ]
     },
     "execution_count": 68,
     "metadata": {},
     "output_type": "execute_result"
    }
   ],
   "source": [
    "# group the \"orders\" table by month of first purchase and month of purchase. add up the income. \n",
    "cohorts = df_orders.groupby(['first_order_month','cohort_lifetime', 'order_month']).agg({'revenue': 'sum'}).reset_index()\n",
    "\n",
    "cohorts.head()"
   ]
  },
  {
   "cell_type": "markdown",
   "metadata": {},
   "source": [
    "*In a cohort analysis, LTV is the cumulative income of a cohort that takes into account the number of people in the cohort. Let's add data related to the number of users who made their first purchase in each month to the table*"
   ]
  },
  {
   "cell_type": "code",
   "execution_count": 69,
   "metadata": {},
   "outputs": [
    {
     "data": {
      "text/html": [
       "<div>\n",
       "<style scoped>\n",
       "    .dataframe tbody tr th:only-of-type {\n",
       "        vertical-align: middle;\n",
       "    }\n",
       "\n",
       "    .dataframe tbody tr th {\n",
       "        vertical-align: top;\n",
       "    }\n",
       "\n",
       "    .dataframe thead th {\n",
       "        text-align: right;\n",
       "    }\n",
       "</style>\n",
       "<table border=\"1\" class=\"dataframe\">\n",
       "  <thead>\n",
       "    <tr style=\"text-align: right;\">\n",
       "      <th></th>\n",
       "      <th>first_order_month</th>\n",
       "      <th>n_buyers</th>\n",
       "      <th>cohort_lifetime</th>\n",
       "      <th>order_month</th>\n",
       "      <th>revenue</th>\n",
       "    </tr>\n",
       "  </thead>\n",
       "  <tbody>\n",
       "    <tr>\n",
       "      <th>0</th>\n",
       "      <td>2017-06</td>\n",
       "      <td>2023</td>\n",
       "      <td>0</td>\n",
       "      <td>2017-06-01</td>\n",
       "      <td>9557.49</td>\n",
       "    </tr>\n",
       "    <tr>\n",
       "      <th>1</th>\n",
       "      <td>2017-06</td>\n",
       "      <td>2023</td>\n",
       "      <td>1</td>\n",
       "      <td>2017-07-01</td>\n",
       "      <td>981.82</td>\n",
       "    </tr>\n",
       "    <tr>\n",
       "      <th>2</th>\n",
       "      <td>2017-06</td>\n",
       "      <td>2023</td>\n",
       "      <td>2</td>\n",
       "      <td>2017-08-01</td>\n",
       "      <td>885.34</td>\n",
       "    </tr>\n",
       "    <tr>\n",
       "      <th>3</th>\n",
       "      <td>2017-06</td>\n",
       "      <td>2023</td>\n",
       "      <td>3</td>\n",
       "      <td>2017-09-01</td>\n",
       "      <td>1931.30</td>\n",
       "    </tr>\n",
       "    <tr>\n",
       "      <th>4</th>\n",
       "      <td>2017-06</td>\n",
       "      <td>2023</td>\n",
       "      <td>4</td>\n",
       "      <td>2017-10-01</td>\n",
       "      <td>2068.58</td>\n",
       "    </tr>\n",
       "  </tbody>\n",
       "</table>\n",
       "</div>"
      ],
      "text/plain": [
       "  first_order_month  n_buyers  cohort_lifetime order_month  revenue\n",
       "0           2017-06      2023                0  2017-06-01  9557.49\n",
       "1           2017-06      2023                1  2017-07-01   981.82\n",
       "2           2017-06      2023                2  2017-08-01   885.34\n",
       "3           2017-06      2023                3  2017-09-01  1931.30\n",
       "4           2017-06      2023                4  2017-10-01  2068.58"
      ]
     },
     "execution_count": 69,
     "metadata": {},
     "output_type": "execute_result"
    }
   ],
   "source": [
    "# add data related to the number of users who made their first purchase in each month to the table\n",
    "report = pd.merge(cohort_sizes, cohorts, on='first_order_month')\n",
    "\n",
    "report.head()"
   ]
  },
  {
   "cell_type": "markdown",
   "metadata": {},
   "source": [
    "*Succeed! A column that contains new customer data has been added to the table as. The first five values in n_buyers column are indeed the same, because they all relate to the same cohort.*\n",
    "\n",
    "*With just two more steps and we will get the LTV value. Let's divide the profit of the cohort for each month by the total number of users in each cohort.*"
   ]
  },
  {
   "cell_type": "code",
   "execution_count": 70,
   "metadata": {},
   "outputs": [
    {
     "data": {
      "text/html": [
       "<div>\n",
       "<style scoped>\n",
       "    .dataframe tbody tr th:only-of-type {\n",
       "        vertical-align: middle;\n",
       "    }\n",
       "\n",
       "    .dataframe tbody tr th {\n",
       "        vertical-align: top;\n",
       "    }\n",
       "\n",
       "    .dataframe thead th {\n",
       "        text-align: right;\n",
       "    }\n",
       "</style>\n",
       "<table border=\"1\" class=\"dataframe\">\n",
       "  <thead>\n",
       "    <tr style=\"text-align: right;\">\n",
       "      <th></th>\n",
       "      <th>first_order_month</th>\n",
       "      <th>n_buyers</th>\n",
       "      <th>cohort_lifetime</th>\n",
       "      <th>order_month</th>\n",
       "      <th>revenue</th>\n",
       "      <th>ltv</th>\n",
       "    </tr>\n",
       "  </thead>\n",
       "  <tbody>\n",
       "    <tr>\n",
       "      <th>0</th>\n",
       "      <td>2017-06</td>\n",
       "      <td>2023</td>\n",
       "      <td>0</td>\n",
       "      <td>2017-06-01</td>\n",
       "      <td>9557.49</td>\n",
       "      <td>4.724414</td>\n",
       "    </tr>\n",
       "    <tr>\n",
       "      <th>1</th>\n",
       "      <td>2017-06</td>\n",
       "      <td>2023</td>\n",
       "      <td>1</td>\n",
       "      <td>2017-07-01</td>\n",
       "      <td>981.82</td>\n",
       "      <td>0.485329</td>\n",
       "    </tr>\n",
       "    <tr>\n",
       "      <th>2</th>\n",
       "      <td>2017-06</td>\n",
       "      <td>2023</td>\n",
       "      <td>2</td>\n",
       "      <td>2017-08-01</td>\n",
       "      <td>885.34</td>\n",
       "      <td>0.437637</td>\n",
       "    </tr>\n",
       "    <tr>\n",
       "      <th>3</th>\n",
       "      <td>2017-06</td>\n",
       "      <td>2023</td>\n",
       "      <td>3</td>\n",
       "      <td>2017-09-01</td>\n",
       "      <td>1931.30</td>\n",
       "      <td>0.954671</td>\n",
       "    </tr>\n",
       "    <tr>\n",
       "      <th>4</th>\n",
       "      <td>2017-06</td>\n",
       "      <td>2023</td>\n",
       "      <td>4</td>\n",
       "      <td>2017-10-01</td>\n",
       "      <td>2068.58</td>\n",
       "      <td>1.022531</td>\n",
       "    </tr>\n",
       "  </tbody>\n",
       "</table>\n",
       "</div>"
      ],
      "text/plain": [
       "  first_order_month  n_buyers  cohort_lifetime order_month  revenue       ltv\n",
       "0           2017-06      2023                0  2017-06-01  9557.49  4.724414\n",
       "1           2017-06      2023                1  2017-07-01   981.82  0.485329\n",
       "2           2017-06      2023                2  2017-08-01   885.34  0.437637\n",
       "3           2017-06      2023                3  2017-09-01  1931.30  0.954671\n",
       "4           2017-06      2023                4  2017-10-01  2068.58  1.022531"
      ]
     },
     "execution_count": 70,
     "metadata": {},
     "output_type": "execute_result"
    }
   ],
   "source": [
    "# calculate LTV and CAC\n",
    "report['ltv'] =  report['revenue'] / report['n_buyers']\n",
    "\n",
    "report.head()"
   ]
  },
  {
   "cell_type": "markdown",
   "metadata": {},
   "source": [
    "*To make the result easier to read, we'll visualize the cohort in the form of a pivot table and heatmap.*"
   ]
  },
  {
   "cell_type": "code",
   "execution_count": 71,
   "metadata": {},
   "outputs": [
    {
     "data": {
      "text/html": [
       "<div>\n",
       "<style scoped>\n",
       "    .dataframe tbody tr th:only-of-type {\n",
       "        vertical-align: middle;\n",
       "    }\n",
       "\n",
       "    .dataframe tbody tr th {\n",
       "        vertical-align: top;\n",
       "    }\n",
       "\n",
       "    .dataframe thead th {\n",
       "        text-align: right;\n",
       "    }\n",
       "</style>\n",
       "<table border=\"1\" class=\"dataframe\">\n",
       "  <thead>\n",
       "    <tr style=\"text-align: right;\">\n",
       "      <th>cohort_lifetime</th>\n",
       "      <th>0</th>\n",
       "      <th>1</th>\n",
       "      <th>2</th>\n",
       "      <th>3</th>\n",
       "      <th>4</th>\n",
       "      <th>5</th>\n",
       "      <th>6</th>\n",
       "      <th>7</th>\n",
       "      <th>8</th>\n",
       "      <th>9</th>\n",
       "      <th>10</th>\n",
       "      <th>11</th>\n",
       "    </tr>\n",
       "    <tr>\n",
       "      <th>first_order_month</th>\n",
       "      <th></th>\n",
       "      <th></th>\n",
       "      <th></th>\n",
       "      <th></th>\n",
       "      <th></th>\n",
       "      <th></th>\n",
       "      <th></th>\n",
       "      <th></th>\n",
       "      <th></th>\n",
       "      <th></th>\n",
       "      <th></th>\n",
       "      <th></th>\n",
       "    </tr>\n",
       "  </thead>\n",
       "  <tbody>\n",
       "    <tr>\n",
       "      <th>2017-06</th>\n",
       "      <td>4.72</td>\n",
       "      <td>0.49</td>\n",
       "      <td>0.44</td>\n",
       "      <td>0.95</td>\n",
       "      <td>1.02</td>\n",
       "      <td>0.74</td>\n",
       "      <td>0.95</td>\n",
       "      <td>0.58</td>\n",
       "      <td>0.55</td>\n",
       "      <td>0.61</td>\n",
       "      <td>0.57</td>\n",
       "      <td>0.26</td>\n",
       "    </tr>\n",
       "    <tr>\n",
       "      <th>2017-07</th>\n",
       "      <td>6.01</td>\n",
       "      <td>0.34</td>\n",
       "      <td>0.62</td>\n",
       "      <td>0.36</td>\n",
       "      <td>0.18</td>\n",
       "      <td>0.16</td>\n",
       "      <td>0.12</td>\n",
       "      <td>0.14</td>\n",
       "      <td>0.16</td>\n",
       "      <td>0.15</td>\n",
       "      <td>0.16</td>\n",
       "      <td></td>\n",
       "    </tr>\n",
       "    <tr>\n",
       "      <th>2017-08</th>\n",
       "      <td>5.28</td>\n",
       "      <td>0.47</td>\n",
       "      <td>0.46</td>\n",
       "      <td>0.39</td>\n",
       "      <td>0.49</td>\n",
       "      <td>0.28</td>\n",
       "      <td>0.21</td>\n",
       "      <td>0.41</td>\n",
       "      <td>0.29</td>\n",
       "      <td>0.19</td>\n",
       "      <td></td>\n",
       "      <td></td>\n",
       "    </tr>\n",
       "    <tr>\n",
       "      <th>2017-09</th>\n",
       "      <td>5.64</td>\n",
       "      <td>1.12</td>\n",
       "      <td>0.52</td>\n",
       "      <td>3.98</td>\n",
       "      <td>0.4</td>\n",
       "      <td>0.65</td>\n",
       "      <td>0.7</td>\n",
       "      <td>0.24</td>\n",
       "      <td>0.18</td>\n",
       "      <td></td>\n",
       "      <td></td>\n",
       "      <td></td>\n",
       "    </tr>\n",
       "    <tr>\n",
       "      <th>2017-10</th>\n",
       "      <td>5.00</td>\n",
       "      <td>0.54</td>\n",
       "      <td>0.19</td>\n",
       "      <td>0.16</td>\n",
       "      <td>0.15</td>\n",
       "      <td>0.12</td>\n",
       "      <td>0.08</td>\n",
       "      <td>0.12</td>\n",
       "      <td></td>\n",
       "      <td></td>\n",
       "      <td></td>\n",
       "      <td></td>\n",
       "    </tr>\n",
       "    <tr>\n",
       "      <th>2017-11</th>\n",
       "      <td>5.15</td>\n",
       "      <td>0.4</td>\n",
       "      <td>0.2</td>\n",
       "      <td>0.32</td>\n",
       "      <td>0.15</td>\n",
       "      <td>0.05</td>\n",
       "      <td>0.11</td>\n",
       "      <td></td>\n",
       "      <td></td>\n",
       "      <td></td>\n",
       "      <td></td>\n",
       "      <td></td>\n",
       "    </tr>\n",
       "    <tr>\n",
       "      <th>2017-12</th>\n",
       "      <td>4.74</td>\n",
       "      <td>0.26</td>\n",
       "      <td>0.93</td>\n",
       "      <td>1.07</td>\n",
       "      <td>0.31</td>\n",
       "      <td>0.34</td>\n",
       "      <td></td>\n",
       "      <td></td>\n",
       "      <td></td>\n",
       "      <td></td>\n",
       "      <td></td>\n",
       "      <td></td>\n",
       "    </tr>\n",
       "    <tr>\n",
       "      <th>2018-01</th>\n",
       "      <td>4.14</td>\n",
       "      <td>0.29</td>\n",
       "      <td>0.3</td>\n",
       "      <td>0.14</td>\n",
       "      <td>0.06</td>\n",
       "      <td></td>\n",
       "      <td></td>\n",
       "      <td></td>\n",
       "      <td></td>\n",
       "      <td></td>\n",
       "      <td></td>\n",
       "      <td></td>\n",
       "    </tr>\n",
       "    <tr>\n",
       "      <th>2018-02</th>\n",
       "      <td>4.16</td>\n",
       "      <td>0.28</td>\n",
       "      <td>0.08</td>\n",
       "      <td>0.07</td>\n",
       "      <td></td>\n",
       "      <td></td>\n",
       "      <td></td>\n",
       "      <td></td>\n",
       "      <td></td>\n",
       "      <td></td>\n",
       "      <td></td>\n",
       "      <td></td>\n",
       "    </tr>\n",
       "    <tr>\n",
       "      <th>2018-03</th>\n",
       "      <td>4.84</td>\n",
       "      <td>0.3</td>\n",
       "      <td>0.32</td>\n",
       "      <td></td>\n",
       "      <td></td>\n",
       "      <td></td>\n",
       "      <td></td>\n",
       "      <td></td>\n",
       "      <td></td>\n",
       "      <td></td>\n",
       "      <td></td>\n",
       "      <td></td>\n",
       "    </tr>\n",
       "    <tr>\n",
       "      <th>2018-04</th>\n",
       "      <td>4.66</td>\n",
       "      <td>0.53</td>\n",
       "      <td></td>\n",
       "      <td></td>\n",
       "      <td></td>\n",
       "      <td></td>\n",
       "      <td></td>\n",
       "      <td></td>\n",
       "      <td></td>\n",
       "      <td></td>\n",
       "      <td></td>\n",
       "      <td></td>\n",
       "    </tr>\n",
       "    <tr>\n",
       "      <th>2018-05</th>\n",
       "      <td>4.66</td>\n",
       "      <td></td>\n",
       "      <td></td>\n",
       "      <td></td>\n",
       "      <td></td>\n",
       "      <td></td>\n",
       "      <td></td>\n",
       "      <td></td>\n",
       "      <td></td>\n",
       "      <td></td>\n",
       "      <td></td>\n",
       "      <td></td>\n",
       "    </tr>\n",
       "    <tr>\n",
       "      <th>2018-06</th>\n",
       "      <td>3.42</td>\n",
       "      <td></td>\n",
       "      <td></td>\n",
       "      <td></td>\n",
       "      <td></td>\n",
       "      <td></td>\n",
       "      <td></td>\n",
       "      <td></td>\n",
       "      <td></td>\n",
       "      <td></td>\n",
       "      <td></td>\n",
       "      <td></td>\n",
       "    </tr>\n",
       "  </tbody>\n",
       "</table>\n",
       "</div>"
      ],
      "text/plain": [
       "cohort_lifetime      0     1     2     3     4     5     6     7     8     9   \\\n",
       "first_order_month                                                               \n",
       "2017-06            4.72  0.49  0.44  0.95  1.02  0.74  0.95  0.58  0.55  0.61   \n",
       "2017-07            6.01  0.34  0.62  0.36  0.18  0.16  0.12  0.14  0.16  0.15   \n",
       "2017-08            5.28  0.47  0.46  0.39  0.49  0.28  0.21  0.41  0.29  0.19   \n",
       "2017-09            5.64  1.12  0.52  3.98   0.4  0.65   0.7  0.24  0.18         \n",
       "2017-10            5.00  0.54  0.19  0.16  0.15  0.12  0.08  0.12               \n",
       "2017-11            5.15   0.4   0.2  0.32  0.15  0.05  0.11                     \n",
       "2017-12            4.74  0.26  0.93  1.07  0.31  0.34                           \n",
       "2018-01            4.14  0.29   0.3  0.14  0.06                                 \n",
       "2018-02            4.16  0.28  0.08  0.07                                       \n",
       "2018-03            4.84   0.3  0.32                                             \n",
       "2018-04            4.66  0.53                                                   \n",
       "2018-05            4.66                                                         \n",
       "2018-06            3.42                                                         \n",
       "\n",
       "cohort_lifetime      10    11  \n",
       "first_order_month              \n",
       "2017-06            0.57  0.26  \n",
       "2017-07            0.16        \n",
       "2017-08                        \n",
       "2017-09                        \n",
       "2017-10                        \n",
       "2017-11                        \n",
       "2017-12                        \n",
       "2018-01                        \n",
       "2018-02                        \n",
       "2018-03                        \n",
       "2018-04                        \n",
       "2018-05                        \n",
       "2018-06                        "
      ]
     },
     "execution_count": 71,
     "metadata": {},
     "output_type": "execute_result"
    }
   ],
   "source": [
    "ltv_pivot = report.pivot_table(\n",
    "    index='first_order_month', \n",
    "    columns='cohort_lifetime', \n",
    "    values='ltv', \n",
    "    aggfunc='mean').round(2)\n",
    "\n",
    "ltv_pivot.fillna('')"
   ]
  },
  {
   "cell_type": "code",
   "execution_count": 72,
   "metadata": {},
   "outputs": [
    {
     "data": {
      "image/png": "[encoded data removed]",
      "text/plain": [
       "<Figure size 864x648 with 2 Axes>"
      ]
     },
     "metadata": {},
     "output_type": "display_data"
    }
   ],
   "source": [
    "plt.figure(figsize=(12, 9))\n",
    "plt.title('LTV over a cohort lifetime')\n",
    "order_heatmap = sns.heatmap(\n",
    "    ltv_pivot,\n",
    "    annot=True,\n",
    "    fmt='.2f',\n",
    "    linewidths=1,\n",
    "    linecolor='black',\n",
    "    cmap='icefire') "
   ]
  },
  {
   "cell_type": "code",
   "execution_count": 73,
   "metadata": {},
   "outputs": [
    {
     "data": {
      "image/png": "[encoded data removed]",
      "text/plain": [
       "<Figure size 720x432 with 1 Axes>"
      ]
     },
     "metadata": {},
     "output_type": "display_data"
    }
   ],
   "source": [
    "cum_ltv = ltv_pivot.cumsum(axis=1).mean(axis=0).reset_index()\n",
    "cum_ltv.columns = ['cohort_lifetime', 'cumulative_LTV']\n",
    "\n",
    "plt.figure(figsize=(10,6))\n",
    "a = sns.barplot(data=cum_ltv, x='cohort_lifetime', y='cumulative_LTV', palette='icefire')\n",
    "\n",
    "for g in a.patches:\n",
    "    a.annotate(format(g.get_height(), '.1f'),\n",
    "                   (g.get_x() + g.get_width() / 2., g.get_height()),\n",
    "                   ha = 'center', va = 'center', \n",
    "                   xytext = (0, 10), rotation=0, \n",
    "                   textcoords = 'offset points')\n",
    "plt.title('Cumulative LTV for each Cohort Lifetime',fontsize=15)\n",
    "plt.xlabel('Cohort Lifetime')\n",
    "plt.ylabel('Cumulative LTV')\n",
    "plt.show()"
   ]
  },
  {
   "cell_type": "markdown",
   "metadata": {},
   "source": [
    "*Each cohort starts with almost similar average income per buyer with each following month experience decrease. Nevertheless, the cumulative LTV shows that there is a consistent pattern of increase through the cohort lifetime.*\n",
    "\n",
    "*One of the interesting things that we noticed, there was a leap in LTV for the 2017-09 cohort in month four.*"
   ]
  },
  {
   "cell_type": "markdown",
   "metadata": {},
   "source": [
    "**Intermediate Conclusions**\n",
    "\n",
    "On **sales analysis**, we answer the question asked by calculating these following metrics.\n",
    "\n",
    "- **Lead time** - Time taken from the first session start to a final decision to purchase product\n",
    "    - Average: 4 hours and 44 minutes\n",
    "    - Median: 20 minutes\n",
    "    - Max: 24 hours\n",
    "- **Cohort Analysis**\n",
    "    - Order count: The significant drop after the first month for each cohort show a majority of users are not making repeat purchases.\n",
    "    - Average revenue per user: This analysis shows that the buyer who decided to make a repeat purchase, order in higher volume then their first order.\n",
    "    - Lifetime Value: Each cohort starts with almost similar LTV, experience drop in average revenue per buyer the following month and cumulatively continues to increase in value."
   ]
  },
  {
   "cell_type": "markdown",
   "metadata": {},
   "source": [
    "### **Marketing Analysis**\n",
    "\n",
    "*By conducting marketing analysis, you were expected to answer these following questions:*\n",
    "- How much **money is spent**? Overall/per source/over time\n",
    "- How much does **customer acquisition cost** (CAC) from each source?\n",
    "- How profitable is the investment? (**ROI**)"
   ]
  },
  {
   "cell_type": "markdown",
   "metadata": {},
   "source": [
    "#### Expense Statistics"
   ]
  },
  {
   "cell_type": "code",
   "execution_count": 74,
   "metadata": {},
   "outputs": [
    {
     "name": "stdout",
     "output_type": "stream",
     "text": [
      "In overall, the marketing department have spent $329,131.62\n"
     ]
    }
   ],
   "source": [
    "print('In overall, the marketing department have spent','${:8,.2f}'.format(df_costs['costs'].sum()))"
   ]
  },
  {
   "cell_type": "code",
   "execution_count": 75,
   "metadata": {},
   "outputs": [
    {
     "data": {
      "text/html": [
       "<div>\n",
       "<style scoped>\n",
       "    .dataframe tbody tr th:only-of-type {\n",
       "        vertical-align: middle;\n",
       "    }\n",
       "\n",
       "    .dataframe tbody tr th {\n",
       "        vertical-align: top;\n",
       "    }\n",
       "\n",
       "    .dataframe thead th {\n",
       "        text-align: right;\n",
       "    }\n",
       "</style>\n",
       "<table border=\"1\" class=\"dataframe\">\n",
       "  <thead>\n",
       "    <tr style=\"text-align: right;\">\n",
       "      <th></th>\n",
       "      <th>source_id</th>\n",
       "      <th>costs</th>\n",
       "      <th>percentage</th>\n",
       "    </tr>\n",
       "  </thead>\n",
       "  <tbody>\n",
       "    <tr>\n",
       "      <th>0</th>\n",
       "      <td>1</td>\n",
       "      <td>20833.27</td>\n",
       "      <td>6.329769</td>\n",
       "    </tr>\n",
       "    <tr>\n",
       "      <th>1</th>\n",
       "      <td>2</td>\n",
       "      <td>42806.04</td>\n",
       "      <td>13.005751</td>\n",
       "    </tr>\n",
       "    <tr>\n",
       "      <th>2</th>\n",
       "      <td>3</td>\n",
       "      <td>141321.63</td>\n",
       "      <td>42.937725</td>\n",
       "    </tr>\n",
       "    <tr>\n",
       "      <th>3</th>\n",
       "      <td>4</td>\n",
       "      <td>61073.60</td>\n",
       "      <td>18.555981</td>\n",
       "    </tr>\n",
       "    <tr>\n",
       "      <th>4</th>\n",
       "      <td>5</td>\n",
       "      <td>51757.10</td>\n",
       "      <td>15.725350</td>\n",
       "    </tr>\n",
       "    <tr>\n",
       "      <th>5</th>\n",
       "      <td>9</td>\n",
       "      <td>5517.49</td>\n",
       "      <td>1.676378</td>\n",
       "    </tr>\n",
       "    <tr>\n",
       "      <th>6</th>\n",
       "      <td>10</td>\n",
       "      <td>5822.49</td>\n",
       "      <td>1.769046</td>\n",
       "    </tr>\n",
       "  </tbody>\n",
       "</table>\n",
       "</div>"
      ],
      "text/plain": [
       "   source_id      costs  percentage\n",
       "0          1   20833.27    6.329769\n",
       "1          2   42806.04   13.005751\n",
       "2          3  141321.63   42.937725\n",
       "3          4   61073.60   18.555981\n",
       "4          5   51757.10   15.725350\n",
       "5          9    5517.49    1.676378\n",
       "6         10    5822.49    1.769046"
      ]
     },
     "execution_count": 75,
     "metadata": {},
     "output_type": "execute_result"
    }
   ],
   "source": [
    "expense_per_source = df_costs.groupby('source_id').agg({'costs':'sum'}).reset_index()\n",
    "expense_per_source['percentage'] = expense_per_source['costs'] / (df_costs['costs'].sum()) * 100\n",
    "\n",
    "expense_per_source"
   ]
  },
  {
   "cell_type": "code",
   "execution_count": 76,
   "metadata": {},
   "outputs": [
    {
     "data": {
      "image/png": "[encoded data removed]",
      "text/plain": [
       "<Figure size 864x648 with 1 Axes>"
      ]
     },
     "metadata": {},
     "output_type": "display_data"
    }
   ],
   "source": [
    "colors = sns.color_palette('icefire')[0:5]\n",
    "data = expense_per_source['percentage']\n",
    "labels = expense_per_source['source_id']\n",
    "\n",
    "#create pie chart\n",
    "plt.figure(figsize=(12, 9))\n",
    "plt.title('Pie chart of ad source costs')\n",
    "plt.pie(data, labels = labels, colors = colors, autopct='%.0f%%', textprops={'fontsize': 12})\n",
    "plt.show()"
   ]
  },
  {
   "cell_type": "markdown",
   "metadata": {},
   "source": [
    "*In total, marketing department have spent more than $300.000 where 43\\% of it was used for ad source 3*"
   ]
  },
  {
   "cell_type": "code",
   "execution_count": 77,
   "metadata": {},
   "outputs": [
    {
     "data": {
      "text/html": [
       "<div>\n",
       "<style scoped>\n",
       "    .dataframe tbody tr th:only-of-type {\n",
       "        vertical-align: middle;\n",
       "    }\n",
       "\n",
       "    .dataframe tbody tr th {\n",
       "        vertical-align: top;\n",
       "    }\n",
       "\n",
       "    .dataframe thead th {\n",
       "        text-align: right;\n",
       "    }\n",
       "</style>\n",
       "<table border=\"1\" class=\"dataframe\">\n",
       "  <thead>\n",
       "    <tr style=\"text-align: right;\">\n",
       "      <th></th>\n",
       "      <th>month</th>\n",
       "      <th>costs</th>\n",
       "      <th>percentage</th>\n",
       "    </tr>\n",
       "  </thead>\n",
       "  <tbody>\n",
       "    <tr>\n",
       "      <th>0</th>\n",
       "      <td>2017-06</td>\n",
       "      <td>18015.00</td>\n",
       "      <td>5.473494</td>\n",
       "    </tr>\n",
       "    <tr>\n",
       "      <th>1</th>\n",
       "      <td>2017-07</td>\n",
       "      <td>18240.59</td>\n",
       "      <td>5.542035</td>\n",
       "    </tr>\n",
       "    <tr>\n",
       "      <th>2</th>\n",
       "      <td>2017-08</td>\n",
       "      <td>14790.54</td>\n",
       "      <td>4.493807</td>\n",
       "    </tr>\n",
       "    <tr>\n",
       "      <th>3</th>\n",
       "      <td>2017-09</td>\n",
       "      <td>24368.91</td>\n",
       "      <td>7.404001</td>\n",
       "    </tr>\n",
       "    <tr>\n",
       "      <th>4</th>\n",
       "      <td>2017-10</td>\n",
       "      <td>36322.88</td>\n",
       "      <td>11.035974</td>\n",
       "    </tr>\n",
       "    <tr>\n",
       "      <th>5</th>\n",
       "      <td>2017-11</td>\n",
       "      <td>37907.88</td>\n",
       "      <td>11.517544</td>\n",
       "    </tr>\n",
       "    <tr>\n",
       "      <th>6</th>\n",
       "      <td>2017-12</td>\n",
       "      <td>38315.35</td>\n",
       "      <td>11.641346</td>\n",
       "    </tr>\n",
       "    <tr>\n",
       "      <th>7</th>\n",
       "      <td>2018-01</td>\n",
       "      <td>33518.52</td>\n",
       "      <td>10.183926</td>\n",
       "    </tr>\n",
       "    <tr>\n",
       "      <th>8</th>\n",
       "      <td>2018-02</td>\n",
       "      <td>32723.03</td>\n",
       "      <td>9.942232</td>\n",
       "    </tr>\n",
       "    <tr>\n",
       "      <th>9</th>\n",
       "      <td>2018-03</td>\n",
       "      <td>30415.27</td>\n",
       "      <td>9.241066</td>\n",
       "    </tr>\n",
       "    <tr>\n",
       "      <th>10</th>\n",
       "      <td>2018-04</td>\n",
       "      <td>22289.38</td>\n",
       "      <td>6.772178</td>\n",
       "    </tr>\n",
       "    <tr>\n",
       "      <th>11</th>\n",
       "      <td>2018-05</td>\n",
       "      <td>22224.27</td>\n",
       "      <td>6.752396</td>\n",
       "    </tr>\n",
       "  </tbody>\n",
       "</table>\n",
       "</div>"
      ],
      "text/plain": [
       "      month     costs  percentage\n",
       "0   2017-06  18015.00    5.473494\n",
       "1   2017-07  18240.59    5.542035\n",
       "2   2017-08  14790.54    4.493807\n",
       "3   2017-09  24368.91    7.404001\n",
       "4   2017-10  36322.88   11.035974\n",
       "5   2017-11  37907.88   11.517544\n",
       "6   2017-12  38315.35   11.641346\n",
       "7   2018-01  33518.52   10.183926\n",
       "8   2018-02  32723.03    9.942232\n",
       "9   2018-03  30415.27    9.241066\n",
       "10  2018-04  22289.38    6.772178\n",
       "11  2018-05  22224.27    6.752396"
      ]
     },
     "execution_count": 77,
     "metadata": {},
     "output_type": "execute_result"
    }
   ],
   "source": [
    "df_costs['month'] = df_costs['date'].astype('datetime64[M]')\n",
    "\n",
    "expense_per_month = df_costs.groupby('month').agg({'costs':'sum'}).reset_index()\n",
    "expense_per_month['percentage'] = (expense_per_month['costs'] / (df_costs['costs'].sum())) * 100\n",
    "\n",
    "expense_per_month['month'] = expense_per_month['month'].dt.strftime('%Y-%m')\n",
    "\n",
    "\n",
    "expense_per_month"
   ]
  },
  {
   "cell_type": "code",
   "execution_count": 78,
   "metadata": {},
   "outputs": [
    {
     "data": {
      "image/png": "[encoded data removed]",
      "text/plain": [
       "<Figure size 864x648 with 1 Axes>"
      ]
     },
     "metadata": {},
     "output_type": "display_data"
    }
   ],
   "source": [
    "plt.figure(figsize=(12, 9))\n",
    "a = sns.barplot(data=expense_per_month, x='month', y='costs', palette='icefire')\n",
    "\n",
    "for g in a.patches:\n",
    "    a.annotate(format(g.get_height(), '.1f'), \n",
    "               (g.get_x() + g.get_width() / 2., g.get_height()), \n",
    "               ha = 'center', va = 'center', \n",
    "               xytext = (0, 10), rotation=0, \n",
    "               textcoords = 'offset points')\n",
    "\n",
    "plt.title('Total expense of marketing department',fontsize=15)\n",
    "plt.xlabel('Month')\n",
    "plt.ylabel('Costs')\n",
    "plt.xticks(rotation=45)\n",
    "plt.show()"
   ]
  },
  {
   "cell_type": "markdown",
   "metadata": {},
   "source": [
    "*Marketing spending increases at the end of the year 2017 and decreases towards the beginning of the year 2018.*"
   ]
  },
  {
   "cell_type": "markdown",
   "metadata": {},
   "source": [
    "#### Custome Acquisition Cost\n",
    "\n",
    "*Customer Acquisition Cost (CAC) is the cost spent on attracting a customer—the money a company spends on new customers. In this scenario, we first have to obtain the number of customer from visits data.*"
   ]
  },
  {
   "cell_type": "code",
   "execution_count": 79,
   "metadata": {},
   "outputs": [
    {
     "data": {
      "text/html": [
       "<div>\n",
       "<style scoped>\n",
       "    .dataframe tbody tr th:only-of-type {\n",
       "        vertical-align: middle;\n",
       "    }\n",
       "\n",
       "    .dataframe tbody tr th {\n",
       "        vertical-align: top;\n",
       "    }\n",
       "\n",
       "    .dataframe thead th {\n",
       "        text-align: right;\n",
       "    }\n",
       "</style>\n",
       "<table border=\"1\" class=\"dataframe\">\n",
       "  <thead>\n",
       "    <tr style=\"text-align: right;\">\n",
       "      <th></th>\n",
       "      <th>source_id</th>\n",
       "      <th>n_visitors</th>\n",
       "    </tr>\n",
       "  </thead>\n",
       "  <tbody>\n",
       "    <tr>\n",
       "      <th>0</th>\n",
       "      <td>1</td>\n",
       "      <td>18999</td>\n",
       "    </tr>\n",
       "    <tr>\n",
       "      <th>1</th>\n",
       "      <td>2</td>\n",
       "      <td>26245</td>\n",
       "    </tr>\n",
       "    <tr>\n",
       "      <th>2</th>\n",
       "      <td>3</td>\n",
       "      <td>74756</td>\n",
       "    </tr>\n",
       "    <tr>\n",
       "      <th>3</th>\n",
       "      <td>4</td>\n",
       "      <td>83525</td>\n",
       "    </tr>\n",
       "    <tr>\n",
       "      <th>4</th>\n",
       "      <td>5</td>\n",
       "      <td>56974</td>\n",
       "    </tr>\n",
       "    <tr>\n",
       "      <th>5</th>\n",
       "      <td>6</td>\n",
       "      <td>6</td>\n",
       "    </tr>\n",
       "    <tr>\n",
       "      <th>6</th>\n",
       "      <td>7</td>\n",
       "      <td>34</td>\n",
       "    </tr>\n",
       "    <tr>\n",
       "      <th>7</th>\n",
       "      <td>9</td>\n",
       "      <td>9264</td>\n",
       "    </tr>\n",
       "    <tr>\n",
       "      <th>8</th>\n",
       "      <td>10</td>\n",
       "      <td>8067</td>\n",
       "    </tr>\n",
       "  </tbody>\n",
       "</table>\n",
       "</div>"
      ],
      "text/plain": [
       "   source_id  n_visitors\n",
       "0          1       18999\n",
       "1          2       26245\n",
       "2          3       74756\n",
       "3          4       83525\n",
       "4          5       56974\n",
       "5          6           6\n",
       "6          7          34\n",
       "7          9        9264\n",
       "8         10        8067"
      ]
     },
     "execution_count": 79,
     "metadata": {},
     "output_type": "execute_result"
    }
   ],
   "source": [
    "source_sizes = df_visits.groupby('source_id').agg({'user_id': 'nunique'}).reset_index()\n",
    "source_sizes.columns = ['source_id', 'n_visitors']\n",
    "\n",
    "source_sizes"
   ]
  },
  {
   "cell_type": "markdown",
   "metadata": {},
   "source": [
    "*Then, we calculate the CAC by dividing the costs of each ad source by its visitor.*"
   ]
  },
  {
   "cell_type": "code",
   "execution_count": 80,
   "metadata": {},
   "outputs": [
    {
     "data": {
      "text/html": [
       "<div>\n",
       "<style scoped>\n",
       "    .dataframe tbody tr th:only-of-type {\n",
       "        vertical-align: middle;\n",
       "    }\n",
       "\n",
       "    .dataframe tbody tr th {\n",
       "        vertical-align: top;\n",
       "    }\n",
       "\n",
       "    .dataframe thead th {\n",
       "        text-align: right;\n",
       "    }\n",
       "</style>\n",
       "<table border=\"1\" class=\"dataframe\">\n",
       "  <thead>\n",
       "    <tr style=\"text-align: right;\">\n",
       "      <th></th>\n",
       "      <th>source_id</th>\n",
       "      <th>n_visitors</th>\n",
       "      <th>costs</th>\n",
       "      <th>cac</th>\n",
       "    </tr>\n",
       "  </thead>\n",
       "  <tbody>\n",
       "    <tr>\n",
       "      <th>0</th>\n",
       "      <td>1</td>\n",
       "      <td>18999</td>\n",
       "      <td>42806.04</td>\n",
       "      <td>2.253068</td>\n",
       "    </tr>\n",
       "    <tr>\n",
       "      <th>1</th>\n",
       "      <td>2</td>\n",
       "      <td>26245</td>\n",
       "      <td>141321.63</td>\n",
       "      <td>5.384707</td>\n",
       "    </tr>\n",
       "    <tr>\n",
       "      <th>2</th>\n",
       "      <td>3</td>\n",
       "      <td>74756</td>\n",
       "      <td>61073.60</td>\n",
       "      <td>0.816973</td>\n",
       "    </tr>\n",
       "    <tr>\n",
       "      <th>3</th>\n",
       "      <td>4</td>\n",
       "      <td>83525</td>\n",
       "      <td>51757.10</td>\n",
       "      <td>0.619660</td>\n",
       "    </tr>\n",
       "    <tr>\n",
       "      <th>4</th>\n",
       "      <td>5</td>\n",
       "      <td>56974</td>\n",
       "      <td>5517.49</td>\n",
       "      <td>0.096842</td>\n",
       "    </tr>\n",
       "    <tr>\n",
       "      <th>5</th>\n",
       "      <td>6</td>\n",
       "      <td>6</td>\n",
       "      <td>5822.49</td>\n",
       "      <td>970.415000</td>\n",
       "    </tr>\n",
       "    <tr>\n",
       "      <th>6</th>\n",
       "      <td>7</td>\n",
       "      <td>34</td>\n",
       "      <td>NaN</td>\n",
       "      <td>NaN</td>\n",
       "    </tr>\n",
       "    <tr>\n",
       "      <th>7</th>\n",
       "      <td>9</td>\n",
       "      <td>9264</td>\n",
       "      <td>NaN</td>\n",
       "      <td>NaN</td>\n",
       "    </tr>\n",
       "    <tr>\n",
       "      <th>8</th>\n",
       "      <td>10</td>\n",
       "      <td>8067</td>\n",
       "      <td>NaN</td>\n",
       "      <td>NaN</td>\n",
       "    </tr>\n",
       "  </tbody>\n",
       "</table>\n",
       "</div>"
      ],
      "text/plain": [
       "   source_id  n_visitors      costs         cac\n",
       "0          1       18999   42806.04    2.253068\n",
       "1          2       26245  141321.63    5.384707\n",
       "2          3       74756   61073.60    0.816973\n",
       "3          4       83525   51757.10    0.619660\n",
       "4          5       56974    5517.49    0.096842\n",
       "5          6           6    5822.49  970.415000\n",
       "6          7          34        NaN         NaN\n",
       "7          9        9264        NaN         NaN\n",
       "8         10        8067        NaN         NaN"
      ]
     },
     "execution_count": 80,
     "metadata": {},
     "output_type": "execute_result"
    }
   ],
   "source": [
    "cac_report = source_sizes.join(expense_per_source['costs'], how='left', on = 'source_id')\n",
    "cac_report['cac'] = cac_report['costs'] / cac_report['n_visitors']\n",
    "\n",
    "cac_report"
   ]
  },
  {
   "cell_type": "markdown",
   "metadata": {},
   "source": [
    "*From this data, we eventually discovered that ad source 6 was ineffective. We should also raise our budget and efforts to attract customers through ad source 5.*"
   ]
  },
  {
   "cell_type": "markdown",
   "metadata": {},
   "source": [
    "#### Return of Marketing Investment\n",
    "\n",
    "*Let's do the calculations for the other cohorts and determine the number of months each cohort needs to cover marketing costs. To find out, we will calculate the CAC for each cohort. In previous section, we have calculate the total expenses for each month. Then, we divide the total expenditure by the number of customers in each cohort:*"
   ]
  },
  {
   "cell_type": "code",
   "execution_count": 81,
   "metadata": {},
   "outputs": [
    {
     "data": {
      "text/html": [
       "<div>\n",
       "<style scoped>\n",
       "    .dataframe tbody tr th:only-of-type {\n",
       "        vertical-align: middle;\n",
       "    }\n",
       "\n",
       "    .dataframe tbody tr th {\n",
       "        vertical-align: top;\n",
       "    }\n",
       "\n",
       "    .dataframe thead th {\n",
       "        text-align: right;\n",
       "    }\n",
       "</style>\n",
       "<table border=\"1\" class=\"dataframe\">\n",
       "  <thead>\n",
       "    <tr style=\"text-align: right;\">\n",
       "      <th></th>\n",
       "      <th>first_order_month</th>\n",
       "      <th>n_buyers</th>\n",
       "      <th>cohort_lifetime</th>\n",
       "      <th>order_month</th>\n",
       "      <th>revenue</th>\n",
       "      <th>ltv</th>\n",
       "      <th>month</th>\n",
       "      <th>costs</th>\n",
       "      <th>cac</th>\n",
       "    </tr>\n",
       "  </thead>\n",
       "  <tbody>\n",
       "    <tr>\n",
       "      <th>0</th>\n",
       "      <td>2017-06</td>\n",
       "      <td>2023</td>\n",
       "      <td>0</td>\n",
       "      <td>2017-06-01</td>\n",
       "      <td>9557.49</td>\n",
       "      <td>4.724414</td>\n",
       "      <td>2017-06</td>\n",
       "      <td>18015.0</td>\n",
       "      <td>8.905091</td>\n",
       "    </tr>\n",
       "    <tr>\n",
       "      <th>1</th>\n",
       "      <td>2017-06</td>\n",
       "      <td>2023</td>\n",
       "      <td>1</td>\n",
       "      <td>2017-07-01</td>\n",
       "      <td>981.82</td>\n",
       "      <td>0.485329</td>\n",
       "      <td>2017-06</td>\n",
       "      <td>18015.0</td>\n",
       "      <td>8.905091</td>\n",
       "    </tr>\n",
       "    <tr>\n",
       "      <th>2</th>\n",
       "      <td>2017-06</td>\n",
       "      <td>2023</td>\n",
       "      <td>2</td>\n",
       "      <td>2017-08-01</td>\n",
       "      <td>885.34</td>\n",
       "      <td>0.437637</td>\n",
       "      <td>2017-06</td>\n",
       "      <td>18015.0</td>\n",
       "      <td>8.905091</td>\n",
       "    </tr>\n",
       "    <tr>\n",
       "      <th>3</th>\n",
       "      <td>2017-06</td>\n",
       "      <td>2023</td>\n",
       "      <td>3</td>\n",
       "      <td>2017-09-01</td>\n",
       "      <td>1931.30</td>\n",
       "      <td>0.954671</td>\n",
       "      <td>2017-06</td>\n",
       "      <td>18015.0</td>\n",
       "      <td>8.905091</td>\n",
       "    </tr>\n",
       "    <tr>\n",
       "      <th>4</th>\n",
       "      <td>2017-06</td>\n",
       "      <td>2023</td>\n",
       "      <td>4</td>\n",
       "      <td>2017-10-01</td>\n",
       "      <td>2068.58</td>\n",
       "      <td>1.022531</td>\n",
       "      <td>2017-06</td>\n",
       "      <td>18015.0</td>\n",
       "      <td>8.905091</td>\n",
       "    </tr>\n",
       "  </tbody>\n",
       "</table>\n",
       "</div>"
      ],
      "text/plain": [
       "  first_order_month  n_buyers  cohort_lifetime order_month  revenue       ltv  \\\n",
       "0           2017-06      2023                0  2017-06-01  9557.49  4.724414   \n",
       "1           2017-06      2023                1  2017-07-01   981.82  0.485329   \n",
       "2           2017-06      2023                2  2017-08-01   885.34  0.437637   \n",
       "3           2017-06      2023                3  2017-09-01  1931.30  0.954671   \n",
       "4           2017-06      2023                4  2017-10-01  2068.58  1.022531   \n",
       "\n",
       "     month    costs       cac  \n",
       "0  2017-06  18015.0  8.905091  \n",
       "1  2017-06  18015.0  8.905091  \n",
       "2  2017-06  18015.0  8.905091  \n",
       "3  2017-06  18015.0  8.905091  \n",
       "4  2017-06  18015.0  8.905091  "
      ]
     },
     "execution_count": 81,
     "metadata": {},
     "output_type": "execute_result"
    }
   ],
   "source": [
    "report = pd.merge(report, expense_per_month[['month', 'costs']], left_on='first_order_month', right_on='month')\n",
    "report['cac'] = report['costs'] / report['n_buyers']\n",
    "\n",
    "report.head()"
   ]
  },
  {
   "cell_type": "markdown",
   "metadata": {},
   "source": [
    "*Next, let's find ROMI (return on marketing investment) by dividing LTV by CAC. To calculate the cumulative ROMI, we need to call a method of cumulative sum.*"
   ]
  },
  {
   "cell_type": "code",
   "execution_count": 82,
   "metadata": {},
   "outputs": [
    {
     "data": {
      "text/html": [
       "<div>\n",
       "<style scoped>\n",
       "    .dataframe tbody tr th:only-of-type {\n",
       "        vertical-align: middle;\n",
       "    }\n",
       "\n",
       "    .dataframe tbody tr th {\n",
       "        vertical-align: top;\n",
       "    }\n",
       "\n",
       "    .dataframe thead th {\n",
       "        text-align: right;\n",
       "    }\n",
       "</style>\n",
       "<table border=\"1\" class=\"dataframe\">\n",
       "  <thead>\n",
       "    <tr style=\"text-align: right;\">\n",
       "      <th>cohort_lifetime</th>\n",
       "      <th>0</th>\n",
       "      <th>1</th>\n",
       "      <th>2</th>\n",
       "      <th>3</th>\n",
       "      <th>4</th>\n",
       "      <th>5</th>\n",
       "      <th>6</th>\n",
       "      <th>7</th>\n",
       "      <th>8</th>\n",
       "      <th>9</th>\n",
       "      <th>10</th>\n",
       "      <th>11</th>\n",
       "    </tr>\n",
       "    <tr>\n",
       "      <th>first_order_month</th>\n",
       "      <th></th>\n",
       "      <th></th>\n",
       "      <th></th>\n",
       "      <th></th>\n",
       "      <th></th>\n",
       "      <th></th>\n",
       "      <th></th>\n",
       "      <th></th>\n",
       "      <th></th>\n",
       "      <th></th>\n",
       "      <th></th>\n",
       "      <th></th>\n",
       "    </tr>\n",
       "  </thead>\n",
       "  <tbody>\n",
       "    <tr>\n",
       "      <th>2017-06</th>\n",
       "      <td>0.53</td>\n",
       "      <td>0.59</td>\n",
       "      <td>0.63</td>\n",
       "      <td>0.74</td>\n",
       "      <td>0.86</td>\n",
       "      <td>0.94</td>\n",
       "      <td>1.05</td>\n",
       "      <td>1.11</td>\n",
       "      <td>1.17</td>\n",
       "      <td>1.24</td>\n",
       "      <td>1.31</td>\n",
       "      <td>1.33</td>\n",
       "    </tr>\n",
       "    <tr>\n",
       "      <th>2017-07</th>\n",
       "      <td>0.63</td>\n",
       "      <td>0.67</td>\n",
       "      <td>0.73</td>\n",
       "      <td>0.77</td>\n",
       "      <td>0.79</td>\n",
       "      <td>0.81</td>\n",
       "      <td>0.82</td>\n",
       "      <td>0.84</td>\n",
       "      <td>0.85</td>\n",
       "      <td>0.87</td>\n",
       "      <td>0.88</td>\n",
       "      <td></td>\n",
       "    </tr>\n",
       "    <tr>\n",
       "      <th>2017-08</th>\n",
       "      <td>0.49</td>\n",
       "      <td>0.53</td>\n",
       "      <td>0.57</td>\n",
       "      <td>0.61</td>\n",
       "      <td>0.66</td>\n",
       "      <td>0.68</td>\n",
       "      <td>0.7</td>\n",
       "      <td>0.74</td>\n",
       "      <td>0.77</td>\n",
       "      <td>0.78</td>\n",
       "      <td></td>\n",
       "      <td></td>\n",
       "    </tr>\n",
       "    <tr>\n",
       "      <th>2017-09</th>\n",
       "      <td>0.60</td>\n",
       "      <td>0.72</td>\n",
       "      <td>0.77</td>\n",
       "      <td>1.19</td>\n",
       "      <td>1.23</td>\n",
       "      <td>1.3</td>\n",
       "      <td>1.38</td>\n",
       "      <td>1.4</td>\n",
       "      <td>1.42</td>\n",
       "      <td></td>\n",
       "      <td></td>\n",
       "      <td></td>\n",
       "    </tr>\n",
       "    <tr>\n",
       "      <th>2017-10</th>\n",
       "      <td>0.60</td>\n",
       "      <td>0.66</td>\n",
       "      <td>0.68</td>\n",
       "      <td>0.7</td>\n",
       "      <td>0.72</td>\n",
       "      <td>0.74</td>\n",
       "      <td>0.75</td>\n",
       "      <td>0.76</td>\n",
       "      <td></td>\n",
       "      <td></td>\n",
       "      <td></td>\n",
       "      <td></td>\n",
       "    </tr>\n",
       "    <tr>\n",
       "      <th>2017-11</th>\n",
       "      <td>0.55</td>\n",
       "      <td>0.6</td>\n",
       "      <td>0.62</td>\n",
       "      <td>0.65</td>\n",
       "      <td>0.67</td>\n",
       "      <td>0.68</td>\n",
       "      <td>0.69</td>\n",
       "      <td></td>\n",
       "      <td></td>\n",
       "      <td></td>\n",
       "      <td></td>\n",
       "      <td></td>\n",
       "    </tr>\n",
       "    <tr>\n",
       "      <th>2017-12</th>\n",
       "      <td>0.54</td>\n",
       "      <td>0.57</td>\n",
       "      <td>0.68</td>\n",
       "      <td>0.8</td>\n",
       "      <td>0.84</td>\n",
       "      <td>0.87</td>\n",
       "      <td></td>\n",
       "      <td></td>\n",
       "      <td></td>\n",
       "      <td></td>\n",
       "      <td></td>\n",
       "      <td></td>\n",
       "    </tr>\n",
       "    <tr>\n",
       "      <th>2018-01</th>\n",
       "      <td>0.42</td>\n",
       "      <td>0.45</td>\n",
       "      <td>0.48</td>\n",
       "      <td>0.49</td>\n",
       "      <td>0.5</td>\n",
       "      <td></td>\n",
       "      <td></td>\n",
       "      <td></td>\n",
       "      <td></td>\n",
       "      <td></td>\n",
       "      <td></td>\n",
       "      <td></td>\n",
       "    </tr>\n",
       "    <tr>\n",
       "      <th>2018-02</th>\n",
       "      <td>0.46</td>\n",
       "      <td>0.49</td>\n",
       "      <td>0.5</td>\n",
       "      <td>0.51</td>\n",
       "      <td></td>\n",
       "      <td></td>\n",
       "      <td></td>\n",
       "      <td></td>\n",
       "      <td></td>\n",
       "      <td></td>\n",
       "      <td></td>\n",
       "      <td></td>\n",
       "    </tr>\n",
       "    <tr>\n",
       "      <th>2018-03</th>\n",
       "      <td>0.56</td>\n",
       "      <td>0.6</td>\n",
       "      <td>0.63</td>\n",
       "      <td></td>\n",
       "      <td></td>\n",
       "      <td></td>\n",
       "      <td></td>\n",
       "      <td></td>\n",
       "      <td></td>\n",
       "      <td></td>\n",
       "      <td></td>\n",
       "      <td></td>\n",
       "    </tr>\n",
       "    <tr>\n",
       "      <th>2018-04</th>\n",
       "      <td>0.48</td>\n",
       "      <td>0.53</td>\n",
       "      <td></td>\n",
       "      <td></td>\n",
       "      <td></td>\n",
       "      <td></td>\n",
       "      <td></td>\n",
       "      <td></td>\n",
       "      <td></td>\n",
       "      <td></td>\n",
       "      <td></td>\n",
       "      <td></td>\n",
       "    </tr>\n",
       "    <tr>\n",
       "      <th>2018-05</th>\n",
       "      <td>0.63</td>\n",
       "      <td></td>\n",
       "      <td></td>\n",
       "      <td></td>\n",
       "      <td></td>\n",
       "      <td></td>\n",
       "      <td></td>\n",
       "      <td></td>\n",
       "      <td></td>\n",
       "      <td></td>\n",
       "      <td></td>\n",
       "      <td></td>\n",
       "    </tr>\n",
       "  </tbody>\n",
       "</table>\n",
       "</div>"
      ],
      "text/plain": [
       "cohort_lifetime      0     1     2     3     4     5     6     7     8     9   \\\n",
       "first_order_month                                                               \n",
       "2017-06            0.53  0.59  0.63  0.74  0.86  0.94  1.05  1.11  1.17  1.24   \n",
       "2017-07            0.63  0.67  0.73  0.77  0.79  0.81  0.82  0.84  0.85  0.87   \n",
       "2017-08            0.49  0.53  0.57  0.61  0.66  0.68   0.7  0.74  0.77  0.78   \n",
       "2017-09            0.60  0.72  0.77  1.19  1.23   1.3  1.38   1.4  1.42         \n",
       "2017-10            0.60  0.66  0.68   0.7  0.72  0.74  0.75  0.76               \n",
       "2017-11            0.55   0.6  0.62  0.65  0.67  0.68  0.69                     \n",
       "2017-12            0.54  0.57  0.68   0.8  0.84  0.87                           \n",
       "2018-01            0.42  0.45  0.48  0.49   0.5                                 \n",
       "2018-02            0.46  0.49   0.5  0.51                                       \n",
       "2018-03            0.56   0.6  0.63                                             \n",
       "2018-04            0.48  0.53                                                   \n",
       "2018-05            0.63                                                         \n",
       "\n",
       "cohort_lifetime      10    11  \n",
       "first_order_month              \n",
       "2017-06            1.31  1.33  \n",
       "2017-07            0.88        \n",
       "2017-08                        \n",
       "2017-09                        \n",
       "2017-10                        \n",
       "2017-11                        \n",
       "2017-12                        \n",
       "2018-01                        \n",
       "2018-02                        \n",
       "2018-03                        \n",
       "2018-04                        \n",
       "2018-05                        "
      ]
     },
     "execution_count": 82,
     "metadata": {},
     "output_type": "execute_result"
    }
   ],
   "source": [
    "report['romi'] = report['ltv'] / report['cac']\n",
    "\n",
    "romi_pivot = report.pivot_table(\n",
    "    index='first_order_month', \n",
    "    columns='cohort_lifetime', \n",
    "    values='romi', \n",
    "    aggfunc='mean')\n",
    "\n",
    "cum_romi_pivot = romi_pivot.cumsum(axis=1).round(2)\n",
    "cum_romi_pivot.fillna('')"
   ]
  },
  {
   "cell_type": "code",
   "execution_count": 83,
   "metadata": {},
   "outputs": [
    {
     "data": {
      "image/png": "[encoded data removed]",
      "text/plain": [
       "<Figure size 864x648 with 2 Axes>"
      ]
     },
     "metadata": {},
     "output_type": "display_data"
    }
   ],
   "source": [
    "plt.figure(figsize=(12, 9))\n",
    "plt.title('Return of Marketing Investment')\n",
    "romi_heatmap = sns.heatmap(\n",
    "    cum_romi_pivot,\n",
    "    annot=True,\n",
    "    fmt='.2f',\n",
    "    linewidths=1,\n",
    "    linecolor='black',\n",
    "    cmap='icefire')"
   ]
  },
  {
   "cell_type": "markdown",
   "metadata": {},
   "source": [
    "*Let's read the report:*\n",
    "- The June 2017 cohort successfully covered marketing costs in the 7th month (ROMI = 1.05).\n",
    "- The September 2017 cohort even did better by succesfully covered marketing costs in the 4th month (ROMI = 1.19). \n",
    "- This was due to an explosion in sales from that cohort in the 4th month\n",
    "- While other cohort have not succesfully covered marketing costs\n",
    "\n",
    "*Let's calculate how quickly a cohort manages to cover marketing costs on average. We'll calculate the average of the values in each column*"
   ]
  },
  {
   "cell_type": "code",
   "execution_count": 84,
   "metadata": {},
   "outputs": [
    {
     "data": {
      "image/png": "[encoded data removed]",
      "text/plain": [
       "<Figure size 864x648 with 1 Axes>"
      ]
     },
     "metadata": {},
     "output_type": "display_data"
    }
   ],
   "source": [
    "cum_romi = romi_pivot.cumsum(axis=1).mean(axis=0).reset_index()\n",
    "cum_romi.columns = ['cohort_lifetime', 'cum_romi']\n",
    "\n",
    "plt.figure(figsize=(12, 9))\n",
    "c = sns.barplot(data=cum_romi, x='cohort_lifetime', y='cum_romi', palette='icefire')\n",
    "\n",
    "for g in c.patches:\n",
    "    c.annotate(format(g.get_height(), '.1f'), \n",
    "               (g.get_x() + g.get_width() / 2., g.get_height()), \n",
    "               ha = 'center', va = 'center', \n",
    "               xytext = (0, 10), rotation=0, \n",
    "               textcoords = 'offset points')\n",
    "\n",
    "plt.title('Average ROMI for each cohort lifetime',fontsize=15)\n",
    "plt.xlabel('Cohort Lifetime')\n",
    "plt.ylabel('Cumulative ROMI')\n",
    "plt.show()"
   ]
  },
  {
   "cell_type": "markdown",
   "metadata": {},
   "source": [
    "*On average, cohorts usually only manage to cover marketing costs towards the end of the 7th month. However, why does the business still record losses even though its cohorts provide positive results? This happened because the company's faster growth only began to be observed in the end of the year. As spending increases, so does the number of new customers. It can take up to seven months to break even. Therefore, the profit obtained still cannot cover expenses. In conclusion, this business is still relatively healthy.*"
   ]
  },
  {
   "cell_type": "markdown",
   "metadata": {},
   "source": [
    "## **Final Conclusions**"
   ]
  },
  {
   "cell_type": "markdown",
   "metadata": {},
   "source": [
    "**Overview do dataframe df_visits:**\n",
    "\n",
    "- *The dataframe contains five columns `device`, `end_ts`, `source_id`, `start_ts` and `user_id` with 50415 rows each and each of type object, int64, object, or uint64. A few of the column names have been changed, and the data type of the `end_ts` and `start_ts` columns has been changed from object to datetime. The dataframe shows no significant difference between mean and median, and no duplicate or missing data.*\n",
    "\n",
    "**Overview do dataframe df_orders:**\n",
    "\n",
    "- *The dataframe contains three columns, `user_id`, `revenue`, and `orders_ts`, with 50415 rows each. The columns have been changed from `buy ts` to `orders_ts`, and the data type of `orders_ts` was changed from object to datetime. And no duplicate or missing data.*\n",
    "\n",
    "**Overview do dataframe df_costs:**\n",
    "\n",
    "- *The dataframe contains three columns, `source_id`, `dt`, and `costs`, with 2542 rows each. The columns have been changed from `dt` to `date`, the data type of `date` changed from object to datetime, and there are no duplicate or missing data.*\n",
    "\n",
    "*On **product analysis**, we answer the question asked by calculating these following metrics.*\n",
    "- **Active User**\n",
    "    - Daily: 907 users\n",
    "    - Weekly: 5,825 users\n",
    "    - Monthly: 23,228 users\n",
    "- **Session per Day**: 987 sessions\n",
    "- **Session Length**:\n",
    "    - Average: 10 minutes\n",
    "    - Mode: 60 seconds\n",
    "- **Sticky Factor**:\n",
    "    - Weekly: 15.59%\n",
    "    - Monthly: 3.91%\n",
    "\n",
    "On **sales analysis**, we answer the question asked by calculating these following metrics.\n",
    "\n",
    "- **Lead time** - Time taken from the first session start to a final decision to purchase product\n",
    "    - Average: 4 hours and 44 minutes\n",
    "    - Median: 20 minutes\n",
    "    - Max: 24 hours\n",
    "- **Cohort Analysis**\n",
    "    - Order count: The significant drop after the first month for each cohort show a majority of users are not making repeat purchases.\n",
    "    - Average revenue per user: This analysis shows that the buyer who decided to make a repeat purchase, order in higher volume then their first order.\n",
    "    - Lifetime Value: Each cohort starts with almost similar LTV, experience drop in average revenue per buyer the following month and cumulatively continues to increase in value.\n",
    "\n",
    "***After conducting product, sales, and marketing analysis. We recommend marketing department to:***\n",
    "- *Invest **more** money on **ad source** that have **low customer aqcuisition cost** such as ad source 2, 3, and 4*;\n",
    "- *Start investing on **high visitor ad source** that have not been invested (ad source 9, and 10)*;\n",
    "- *Invest **less** on ad source with **high customer acquisition cost** such as ad source 6*."
   ]
  }
 ],
 "metadata": {
  "kernelspec": {
   "display_name": "Python 3 (ipykernel)",
   "language": "python",
   "name": "python3"
  },
  "language_info": {
   "codemirror_mode": {
    "name": "ipython",
    "version": 3
   },
   "file_extension": ".py",
   "mimetype": "text/x-python",
   "name": "python",
   "nbconvert_exporter": "python",
   "pygments_lexer": "ipython3",
   "version": "3.9.5"
  },
  "toc": {
   "base_numbering": 1,
   "nav_menu": {},
   "number_sections": true,
   "sideBar": true,
   "skip_h1_title": true,
   "title_cell": "Table of Contents",
   "title_sidebar": "Contents",
   "toc_cell": false,
   "toc_position": {
    "height": "calc(100% - 180px)",
    "left": "10px",
    "top": "150px",
    "width": "293px"
   },
   "toc_section_display": true,
   "toc_window_display": false
  }
 },
 "nbformat": 4,
 "nbformat_minor": 2
}
